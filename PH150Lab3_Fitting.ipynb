{
 "cells": [
  {
   "cell_type": "markdown",
   "metadata": {
    "hide_input": false
   },
   "source": [
    "# PH150 Week 3 - Determining g\n",
    "This week we will using measurements and curve fitting to determine the value of the acceleration due to gravity $g$.  By using curve fitting instead of just averaging we are able to use multiple different measurements to find a single value.  The errors in each of these measurements often cancel to produce a value that is much more accurate. We also look at some more details about plots and how to find the error in fit parameters.  \n"
   ]
  },
  {
   "cell_type": "markdown",
   "metadata": {},
   "source": [
    "# Model\n",
    "The physical system we will look at in this lab is a object falling under the influence of gravity. We will assume that this system has a constant acceleration. When we do this we can use the standard kinematic equation \n",
    "\n",
    "$$y=y_0+v_0t+\\frac{1}{2}at^2$$\n",
    "\n",
    "For the system we will look at this is a reasonable assumption (that the acceleration is constant) but for future systems we will study this will not be true. We will need to develop other methods to accurately model them."
   ]
  },
  {
   "cell_type": "markdown",
   "metadata": {},
   "source": [
    "# Measurement\n",
    "For this lab you will be using a spark timer. This is a devise that puts a small dot on a strip of paper every $\\frac{1}{60}$ of a second. The strip of paper is attached to a weight and dropped. In this way you get the position of the weight marked every $\\frac{1}{60}$ of a second. You will need to measure the distance from the starting point to each dot as accurately as possible. Because the time interval is set between when each dot is made you don't need to measure this. However, it is recommended that each dot be labeled 1,2,3, etc. so that the time from the start can be determined for each. You will need to make an array for both the position and the time data. The position data will just have to be entered by hand. The time data could also be entered by hand like so:"
   ]
  },
  {
   "cell_type": "code",
   "execution_count": 1,
   "metadata": {
    "hide_input": false
   },
   "outputs": [
    {
     "name": "stdout",
     "output_type": "stream",
     "text": [
      "[0.01666667 0.03333333 0.05      ]\n"
     ]
    }
   ],
   "source": [
    "from numpy import *  #first import the libary so we can use its functions\n",
    "t=array([1/60,2/60,3/60]) # enter each value in by hand, at least we can use fractions\n",
    "print(t) # check to see what it looks like"
   ]
  },
  {
   "cell_type": "markdown",
   "metadata": {},
   "source": [
    "But because the time data is uniform you can use a function to do it for you. There are a number of different ways to go about this. This is just one way. In the numpy library there is a function called 'arange'. This stands for array range and creates an array starting with the first number and going to the next number in increments of the third number. Like so"
   ]
  },
  {
   "cell_type": "code",
   "execution_count": 2,
   "metadata": {},
   "outputs": [
    {
     "name": "stdout",
     "output_type": "stream",
     "text": [
      "[0.01666667 0.03333333 0.05       0.06666667 0.08333333 0.1\n",
      " 0.11666667 0.13333333 0.15       0.16666667 0.18333333 0.2       ]\n"
     ]
    }
   ],
   "source": [
    "t=arange(1/60,.2,1/60) # a very nice function to fill an array with evenly spaced values. This will be used again.\n",
    "print(t) # check to see what it looks like"
   ]
  },
  {
   "cell_type": "markdown",
   "metadata": {},
   "source": [
    "In this way you can create a very large array very fast."
   ]
  },
  {
   "cell_type": "markdown",
   "metadata": {
    "hide_input": true
   },
   "source": [
    "## Error\n",
    "Every measurement has an error or uncertainty associated with it. In this lab the largest uncertainty will be in your measurement of distance. The time measurements also have an uncertainty but they are so small compared to the distance measurements they will be ignored. When you make your measurements do the best you can to measure as accurately as you can then think about how well you know the values that you measure. Could they be 0.1cm more or less? How about 0.05cm? The tick marks on the meter stick are 1mm apart. However, usually you can tell if a value is half way between these. It may also depend on the dot you are measuring. Is it smeared out so it is hard to tell exactly where it is. There is often a degree of judgement when determining the error in your measurement. In general, your error should be as small as possible, but not smaller than reasonable. So that if someone else were to measure the same thing they would have about a 70% chance of getting a value within your measurement $\\pm$ your uncertainty value."
   ]
  },
  {
   "cell_type": "markdown",
   "metadata": {},
   "source": [
    "## Plotting with error bars\n",
    "When plotting data it is a good idea to also plot the error in the data.  This is done with error bars. We first need an array of numbers with the error in the y values. It is common for the largest error in our measurements to be in the y values and for the error in the x values to be so small they are not important.  This isn't always the case, but for this class we'll stick with the error always in the y values. To show how this works I'll use an example.  First define the values in the arrays for $x$, $y$ and for the error in $y$, $ysigma$. The $sigma$ stands for the standard deviation and has the symbol $\\sigma$."
   ]
  },
  {
   "cell_type": "code",
   "execution_count": 3,
   "metadata": {},
   "outputs": [],
   "source": [
    "x = array([0,20,40,60,80,100])\n",
    "y = array([-0.849,-0.196,0.734,1.541,2.456,3.318])\n",
    "ysigma=array([0.05,0.05,0.05,0.05,0.05,0.05])"
   ]
  },
  {
   "cell_type": "code",
   "execution_count": 4,
   "metadata": {},
   "outputs": [],
   "source": [
    "x = array([0.,20.,40.,60.,80.,100.])\n",
    "y = array([-2.2,.89,60,120,300,450])\n",
    "ysigma=array([0.5,1,30,50,70,30])"
   ]
  },
  {
   "cell_type": "markdown",
   "metadata": {},
   "source": [
    "Then we use the function from the matplotlib plotting library 'errorbar' to set the values of the error bars and to plot the data."
   ]
  },
  {
   "cell_type": "code",
   "execution_count": 5,
   "metadata": {},
   "outputs": [
    {
     "data": {
      "text/plain": [
       "Text(0.5, 1.0, 'A title for the plot')"
      ]
     },
     "execution_count": 5,
     "metadata": {},
     "output_type": "execute_result"
    },
    {
     "data": {
      "image/png": "[encoded data removed]",
      "text/plain": [
       "<Figure size 432x288 with 1 Axes>"
      ]
     },
     "metadata": {
      "needs_background": "light"
     },
     "output_type": "display_data"
    }
   ],
   "source": [
    "from matplotlib.pyplot import *\n",
    "%matplotlib inline\n",
    "\n",
    "errorbar(x, y, yerr=ysigma,fmt='o')\n",
    "ylabel('y')\n",
    "xlabel('x')\n",
    "title('A title for the plot')"
   ]
  },
  {
   "cell_type": "markdown",
   "metadata": {},
   "source": [
    "Every plot should have also have labels for the x and y axis. Make them specific to the application. Don't just use $x$ and $y$. Also a title helps describe what the plot is about. Please use each of these for all of your future plots."
   ]
  },
  {
   "cell_type": "code",
   "execution_count": null,
   "metadata": {},
   "outputs": [],
   "source": []
  },
  {
   "cell_type": "markdown",
   "metadata": {},
   "source": [
    "## <b><span style=\"color:red;\">Your Assignment:</span></b>  \n",
    "Measure and plot:\n",
    "- Measure the distance from the start to each dot on the paper strip. For each value also record the error. \n",
    "- Put these values in their own arrays and create a time array with the same number of values.\n",
    "- Make a plot of distance vs time with error bars. Be sure each axis is properly labeled and that the plot has a title."
   ]
  },
  {
   "cell_type": "code",
   "execution_count": null,
   "metadata": {},
   "outputs": [],
   "source": []
  },
  {
   "cell_type": "markdown",
   "metadata": {},
   "source": [
    "# Fitting to find parameters"
   ]
  },
  {
   "cell_type": "markdown",
   "metadata": {},
   "source": [
    "Physics and most other sciences involve finding predictable patterns in nature. We call these patterns models. A crucial step in this process is checking to see if the model matches the data. We matched this pattern $C=\\pi D$ to circumference and diameter data last week. Today you will check one of the kinematic equations you have used in PH121.\n",
    "\n",
    "$$y=y_0+v_0t+\\frac{1}{2}at^2$$\n",
    "\n",
    "You'll use the same fitting function from the numpy library that you used last week, only this time we'll use some of its other features. Take a look here to see what other inputs it can take: [numpy.polyfit](https://docs.scipy.org/doc/numpy/reference/generated/numpy.polyfit.html). Play close attention to the input $w$. It allows you to include the effects of the error for each data point in the fit. This way if there is a large error for one data point it won't factor in as much in the fitting as a data point with a very small error. This is done by setting $w$, the weighting factor, to one over the error like so: $$w=\\frac{1}{\\sigma}$$ Here is what it looks like in the code:"
   ]
  },
  {
   "cell_type": "code",
   "execution_count": 6,
   "metadata": {},
   "outputs": [
    {
     "name": "stdout",
     "output_type": "stream",
     "text": [
      "[ 0.05484759 -0.94166785 -2.2013302 ]\n"
     ]
    }
   ],
   "source": [
    "coefficients = polyfit(x, y,2,w=1/ysigma) # note the 2 instead of one. This is because it is now going to fit it to a 2nd order polynomial that matches our model.\n",
    "print(coefficients)"
   ]
  },
  {
   "cell_type": "markdown",
   "metadata": {},
   "source": [
    "These numbers, like last week, are the values that go in front of our variable. Also like last week we should compare our fit with the data by plotting both on the same plot like so"
   ]
  },
  {
   "cell_type": "code",
   "execution_count": 7,
   "metadata": {},
   "outputs": [
    {
     "data": {
      "text/plain": [
       "Text(10, 400, 'y=0.055x*x+-0.942x+-2.201')"
      ]
     },
     "execution_count": 7,
     "metadata": {},
     "output_type": "execute_result"
    },
    {
     "data": {
      "image/png": "[encoded data removed]",
      "text/plain": [
       "<Figure size 432x288 with 1 Axes>"
      ]
     },
     "metadata": {
      "needs_background": "light"
     },
     "output_type": "display_data"
    }
   ],
   "source": [
    "ycal=polyval(coefficients,x) # computes the y values for our fit using the coefficients from our fit and the x values\n",
    "\n",
    "errorbar(x, y, yerr=ysigma,fmt='o') # plots the data with error bars\n",
    "plot(x,ycal) # plots the fit\n",
    "ylabel('y')\n",
    "xlabel('x')\n",
    "title('A title for the plot')\n",
    "text(10, 400, 'y={0:.3f}x*x+{1:.3f}x+{2:.3f}'.format(coefficients[0],coefficients[1],coefficients[2])) # take a look at this closely and see if you can figure out what it is doing."
   ]
  },
  {
   "cell_type": "markdown",
   "metadata": {},
   "source": [
    "## Error in parameters\n",
    "The polyfit function gives us the parameters of our fit, in this case these are the coefficients of a 2nd order polynomial. But it would also be nice to know how well we know these values. What is their uncertainty? This can be found with another input to the polyfit function called 'cov'. This stands for the covariance matrix. If this input is set to $True$, or in our case 'unscaled' then the function also gives us a matrix. The diagonal elements of this matrix are the uncertainty in our parameters squared. So by square rooting it we can find the error in each of our parameters. like so."
   ]
  },
  {
   "cell_type": "code",
   "execution_count": 8,
   "metadata": {},
   "outputs": [
    {
     "name": "stdout",
     "output_type": "stream",
     "text": [
      "0.054847585002155634 with error of 0.0036338714045759776\n",
      "-0.9416678493122186 with error of 0.09999073754276963\n",
      "-2.201330196139873 with error of 0.49995738555847724\n"
     ]
    }
   ],
   "source": [
    "[cof,mat]=polyfit(x, y,2,w=1/ysigma,cov='unscaled') #gets the fit parameters and the coveraance matrix that we can use to find the error for each parameter.\n",
    "\n",
    "print(cof[0],'with error of',sqrt(mat[0,0]))\n",
    "print(cof[1],'with error of',sqrt(mat[1,1]))\n",
    "print(cof[2],'with error of',sqrt(mat[2,2]))"
   ]
  },
  {
   "cell_type": "markdown",
   "metadata": {},
   "source": [
    "All the digits are a bit much, especially now that we know the error. Let’s use the same format function to fix this up a bit like so"
   ]
  },
  {
   "cell_type": "code",
   "execution_count": 9,
   "metadata": {},
   "outputs": [
    {
     "name": "stdout",
     "output_type": "stream",
     "text": [
      "0.0548 with error of 0.0036\n",
      "-0.942 with error of 0.100\n",
      "-2.201 with error of 0.500\n"
     ]
    }
   ],
   "source": [
    "print('{0:.4f} with error of {1:.4f}'.format(cof[0],sqrt(mat[0,0])))\n",
    "print('{0:.3f} with error of {1:.3f}'.format(cof[1],sqrt(mat[1,1])))\n",
    "print('{0:.3f} with error of {1:.3f}'.format(cof[2],sqrt(mat[2,2])))"
   ]
  },
  {
   "cell_type": "markdown",
   "metadata": {},
   "source": [
    "You can then take these values and format them very nice in a markdown cell. The values and uncertainties from the fit to our data of the 2$^{nd}$ order polynomial $a+bx+cx^2=y$ is"
   ]
  },
  {
   "cell_type": "markdown",
   "metadata": {},
   "source": [
    "| Parameter | value   | $\\pm \\sigma $ |\n",
    "| -------  |:-------:| -----:|\n",
    "| a         |  -2.201 |  0.50   |\n",
    "| b         |  -0.942 |  0.10   |\n",
    "| c         |  0.0548 |  0.0036 |"
   ]
  },
  {
   "cell_type": "markdown",
   "metadata": {},
   "source": [
    "## <b><span style=\"color:red;\">Your Assignment:</span></b>  \n",
    "Fit with error:\n",
    "- Fit your data to a 2nd order polynomial. \n",
    "- Include the cov='unscaled' and the weight to get parameters with their error.\n",
    "- What value of g best matches your data and what is its error?\n",
    "- Make a plot with your data, the fit and the equation that matches the fit. Be sure to label axis and give it a title."
   ]
  },
  {
   "cell_type": "code",
   "execution_count": null,
   "metadata": {},
   "outputs": [],
   "source": []
  }
 ],
 "metadata": {
  "hide_input": false,
  "kernelspec": {
   "display_name": "Python 3",
   "language": "python",
   "name": "python3"
  },
  "language_info": {
   "codemirror_mode": {
    "name": "ipython",
    "version": 3
   },
   "file_extension": ".py",
   "mimetype": "text/x-python",
   "name": "python",
   "nbconvert_exporter": "python",
   "pygments_lexer": "ipython3",
   "version": "3.8.3"
  },
  "nav_menu": {},
  "toc": {
   "navigate_menu": true,
   "number_sections": true,
   "sideBar": true,
   "threshold": 6,
   "toc_cell": false,
   "toc_section_display": "block",
   "toc_window_display": true
  },
  "toc_position": {
   "height": "406.383px",
   "left": "0px",
   "right": "1044px",
   "top": "157.617px",
   "width": "76px"
  }
 },
 "nbformat": 4,
 "nbformat_minor": 4
}
