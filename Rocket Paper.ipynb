{
 "cells": [
  {
   "cell_type": "markdown",
   "metadata": {},
   "source": [
    "<b>Rocket Paper</b>\n",
    "\n",
    "Your rocket paper should have at least the following sections.  Please work together with those in your group to write a well written paper about this rocket experiment.  It should include graphs, equations and numbers as well as clear descriptions.\n",
    "\n",
    "## Introduction\n",
    "A one paragraph introduction is fine.  Describe what the paper is about.\n",
    "\n",
    "## Prediction\n",
    "This part of the paper needs to include your methods for making the prediction for max hight, time to max hight, and time to landing. As well as the values for your predictions and their corresponding errors. Don't just dump all the code in this section.  The code should be at the end as an appendix.  Do, however, describe your code.  How does it work?  Feel free to share some code parts to demonstrate how it works.  But be sure to have clear explanations, not just code.\n",
    "\n",
    "## Measurements\n",
    "In this sections give the values of the measurements that where taken and describe how they were taken.  Also give the error for these measured values.  Also, discus any unique circumstances under which the measurements where taken: weather issues, zombie attacks, etc.\n",
    "\n",
    "## Comparison\n",
    "Compare and contrast your prediction with the measurements.  Why are they similar, and why are they different.  Was there something that went wrong?  Could you have included more in your model?  If so, what would it be.\n",
    "\n",
    "## Conclusion\n",
    "How did it all go?  What would you do different if you did it all again?\n",
    "\n",
    "## Appendix\n",
    "All of your code.  The code from each member of the group should be included. Each should be well commented.  Each should be labeled with the name of who wrote the code."
   ]
  },
  {
   "cell_type": "code",
   "execution_count": null,
   "metadata": {},
   "outputs": [],
   "source": []
  }
 ],
 "metadata": {
  "anaconda-cloud": {},
  "kernelspec": {
   "display_name": "Python 3",
   "language": "python",
   "name": "python3"
  },
  "language_info": {
   "codemirror_mode": {
    "name": "ipython",
    "version": 3
   },
   "file_extension": ".py",
   "mimetype": "text/x-python",
   "name": "python",
   "nbconvert_exporter": "python",
   "pygments_lexer": "ipython3",
   "version": "3.7.3"
  },
  "nav_menu": {},
  "toc": {
   "navigate_menu": true,
   "number_sections": true,
   "sideBar": true,
   "threshold": 6,
   "toc_cell": false,
   "toc_section_display": "block",
   "toc_window_display": true
  },
  "toc-autonumbering": true,
  "toc-showcode": true,
  "toc-showmarkdowntxt": true
 },
 "nbformat": 4,
 "nbformat_minor": 4
}
