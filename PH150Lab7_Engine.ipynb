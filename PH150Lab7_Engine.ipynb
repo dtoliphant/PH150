{
 "cells": [
  {
   "cell_type": "markdown",
   "metadata": {},
   "source": [
    "# PH150 Week 7\n",
    "Last week you made your model 2-D and incorporated drag.  This makes your model very good at predicting the trajectory of a ball, but we want to predict the motion of a rocket.  For this we need to add a few more things.  This week we will add the affects the force of the rocket engine and the change in area due to the parachute opening. You may also add the affects of wind.   But first we'll look at how to handle error. You should of done some of this last week. "
   ]
  },
  {
   "cell_type": "markdown",
   "metadata": {},
   "source": [
    "# Error in prediction with a computer model\n",
    "Early this semester (week 2) we looked at how to get the error of something that is calculated.  We looked at the general form for error propigation:\n",
    "$$\\sigma_x^2=\\sigma_u^2(\\frac{\\partial f}{\\partial u})^2+\\sigma_v^2(\\frac{\\partial f}{\\partial v})^2+\\sigma_q^2(\\frac{\\partial f}{\\partial q})^2$$\n",
    "\n",
    "And we looked at how this is applied for specific forms.  It turns out that for most simple equations the ratio equation works:\n",
    "$$(\\frac{\\sigma_x}{x})^2=(\\frac{\\sigma_u}{u})^2+(\\frac{\\sigma_v}{v})^2+(\\frac{\\sigma_q}{q})^2$$\n",
    "\n",
    "This form would not work for things that are calculated with $\\sin$ or $\\log$, ect.  It also doesn't work for a computer program.  The model we've developed that predicts the trajectory of a rocket has equations, but it is unclear how to incorporate the error in our measurements to find the error in our predicted values.\n",
    "\n",
    "First let's state the problem.  You have a model that when you input initial conditions for position and velocity and also input the drag parameters like the area, the density of air, etc then it will tell you the position, velocity and acceleration at any given time.  We need more than just those values at any time though.  We need to know the error in those values based off the error in the things we put in.\n",
    "\n",
    "This can be done simply by looking at the results for a large sample of different inputs.  So you change each of your inputs by an amount equal to the corresponding error.  You then do this again and again changing each input differently each time.  Then collect the results and look at the spread.  If you know how each input affects the output you can simple change each one to one extream run the simpulationg then do it again on the other extream. If you don't know just how each imput affects the outcome then its best to randomly chooe values in the range of posibilities for each input.  Then run the simulation lots and lots of times to get a spread for the outcome."
   ]
  },
  {
   "cell_type": "markdown",
   "metadata": {},
   "source": [
    "## Example\n",
    "First I want to create a function that I can send all of my initial conditions to and will return that I want.  I'll stick with a projectile motion example, but this process works well for any system. When looking at this example please look through the code.  Read each line and think about what it means and how the computer will 'think' about it. Note this is just taking what you have done and wrapping it into a function like this\n",
    "``` python \n",
    "def proj(input_ parameters) # I've called this proj, but it can be called what ever makes the most sense to you\n",
    "\n",
    "    Stuff you already wrote\n",
    "    \n",
    "    return number #this should be what ever variable you want the function send you. In this case probably the last value of x\n",
    "```\n",
    "This example is my version of what you've had to do over the last few weeks. Do not just copy it. If you have something that works well use it. I show this here so that you can see other ways of doing the same thing. It is also helpful for you to see others code and figure out what it is doing. Also note all the comments. Your code should also be commented as much or more than this. "
   ]
  },
  {
   "cell_type": "code",
   "execution_count": 1,
   "metadata": {},
   "outputs": [],
   "source": [
    "import numpy as np\n",
    "import matplotlib.pyplot as plt\n",
    "%matplotlib inline\n",
    "\n",
    "def proj(y0,v0,theta,A,C,rho,m):\n",
    "    #first define some constants to make the code easier to read\n",
    "    theta_rad=theta*np.pi/180       #convert theta from degrees to radians\n",
    "    Dc=0.5*A*C*rho/m                # the drag constants to make the code cleaner\n",
    "    g=-9.8                          # the gravitational acceleration constant in m/s2\n",
    "    dt=0.01                         # the time step, must be small to give good results\n",
    "    \n",
    "    # initialize my lists/arrays to use in the while loop\n",
    "    x=[0]                           #initialize position in x direction \n",
    "    y=[y0]                          #initialize position in y direction using inital y position\n",
    "    vx=[v0*np.cos(theta_rad)]       #initialize velocity in x direction using inital velocity and trig\n",
    "    vy=[v0*np.sin(theta_rad)]       #initialize velocity in x direction using inital velocity and trig\n",
    "    \n",
    "    magv=(vx[-1]**2+vy[-1]**2)**0.5 # the magnitude of v, again to keep the next line cleaner\n",
    "    ax=[ -Dc*magv*vx[-1] ]          #initialize acceleration in x direction ax=Fx/m\n",
    "    ay=[ -Dc*magv*vy[-1] + g ]      #initialize acceleration in x direction ax=Fx/m\n",
    "    \n",
    "    #The while loop to update and add a new value in list/array\n",
    "    while (y[-1]>0):\n",
    "        x.append( x[-1]+vx[-1]*dt )             #update position in x direction \n",
    "        y.append( y[-1]+vy[-1]*dt )             #update position in y direction using inital y position\n",
    "        vx.append( vx[-1]+ax[-1]*dt )           #update velocity in x direction using inital velocity and trig\n",
    "        vy.append( vy[-1]+ay[-1]*dt )           #update velocity in x direction using inital velocity and trig\n",
    "        \n",
    "        magv=(  vx[-1]**2 + vy[-1]**2  )**0.5   # recalulate the magnitude of v, with new values\n",
    "        ax.append( -Dc*magv*vx[-1] )            #recalculate acceleration in x direction ax=Fx/m using new values for velocity\n",
    "        ay.append( -Dc*magv*vy[-1] + g )        #recalculate acceleration in x direction ax=Fx/m using new values for velocity\n",
    "    \n",
    "    plt.plot(x,y)\n",
    "    return x[-1] # it might be usuful to return more than just the last value in x"
   ]
  },
  {
   "cell_type": "markdown",
   "metadata": {},
   "source": [
    "Now to use the function. I 'call' it like so \n",
    "```python \n",
    "proj(1,3,40,0.02,0.5,1.2,0.01)\n",
    "```\n",
    "But I also want it to print out it's return value, so I put the whole thing in a print function like so"
   ]
  },
  {
   "cell_type": "code",
   "execution_count": 2,
   "metadata": {},
   "outputs": [
    {
     "name": "stdout",
     "output_type": "stream",
     "text": [
      "1.075520651098257\n",
      "1.2858789953777683\n",
      "1.6086933305498532\n"
     ]
    },
    {
     "data": {
      "image/png": "[encoded data removed]",
      "text/plain": [
       "<Figure size 432x288 with 1 Axes>"
      ]
     },
     "metadata": {
      "needs_background": "light"
     },
     "output_type": "display_data"
    }
   ],
   "source": [
    "print(proj(1,3,40,0.02,0.5,1.2,0.01))\n",
    "print(proj(1,3,40,0.02,0.5,1.2,0.02))\n",
    "print(proj(1,3,40,0.02,0.0,1.2,0.01))"
   ]
  },
  {
   "cell_type": "markdown",
   "metadata": {},
   "source": [
    "As you can see by calling this function multiple times with slightly different input parameters you can get a feel for the range of possible outcomes.  This can be automated with another loop (optional assignment at the end).  But for now just try some different values and look at the outcome."
   ]
  },
  {
   "cell_type": "markdown",
   "metadata": {},
   "source": [
    "## <b><span style=\"color:red;\">Your Assignment:</span></b>  \n",
    "- If you haven't already, turn <u>your</u> projectile code into a function.  This should allow input for initial conditions and output the final x value.\n",
    "- Use this function to get a feel for the affects of changes in the input values and the output value.\n",
    "- Choose input values on both extremes and note the range in the final x values.\n",
    "- Compare this range to the error you got last week when you predicted and then launch the projectile and measure the final position."
   ]
  },
  {
   "cell_type": "markdown",
   "metadata": {},
   "source": [
    "# Rocket Engine"
   ]
  },
  {
   "cell_type": "markdown",
   "metadata": {},
   "source": [
    "To predict the trajectory of a rocket we must look at the effects of the rocket's engine.  We can model the effects of the engine by looking at it's force as a function of time.  Graphs for this function for different kinds of engines are readily available on-line. Take a look at [this](http://www.hobbylinc.com/rockets/info/rockets_enginefacts.htm) description of how this work and are rated. [Here](https://www.grc.nasa.gov/WWW/K-12/rocket/rktenglab.html) is another good site. Below is an example for the B-6 Engine.\n",
    "\n",
    "![](http://www.hobbylinc.com/rockets/group/b6_4thrust.gif)\n",
    "\n",
    "You will need to make a function that models this an other engines.  Rather than try to do this with complicated math we can model each part with a line and use if statements to decide when to use what line.\n",
    "\n",
    "If statement use a condition to tell the computer whether or not to run some code.  The formate is similar to the while loop, but the if only runs once.  Here is a simple example:\n",
    "\n"
   ]
  },
  {
   "cell_type": "code",
   "execution_count": 3,
   "metadata": {},
   "outputs": [
    {
     "name": "stdout",
     "output_type": "stream",
     "text": [
      "1\n"
     ]
    }
   ],
   "source": [
    "t=0.3\n",
    "if (t<0.3):\n",
    "    F=5\n",
    "if (t>0.3):\n",
    "    F=6\n",
    "else:\n",
    "    F=1\n",
    "\n",
    "print(F)        "
   ]
  },
  {
   "cell_type": "markdown",
   "metadata": {},
   "source": [
    "The else at the end is just something to catch conditions that may not of been met with the if statement. It only 'catches' the last if.  We can also use the elif function.  elif is short for else if."
   ]
  },
  {
   "cell_type": "code",
   "execution_count": 4,
   "metadata": {},
   "outputs": [
    {
     "name": "stdout",
     "output_type": "stream",
     "text": [
      "5\n"
     ]
    }
   ],
   "source": [
    "t=3\n",
    "if(t>0.3):\n",
    "    F=5\n",
    "elif(t<0.3):\n",
    "    F=6\n",
    "\n",
    "print(F)"
   ]
  },
  {
   "cell_type": "markdown",
   "metadata": {},
   "source": [
    "## <b><span style=\"color:red;\">Your Assignment:</span></b>  \n",
    "- Create a python function that models the rocket engine B-6 by using if statements and straight lines. Your function should output a thrust(i.e. force) of an engine as a function of time. \n",
    "- Test your function by using it to reproduce the graph in the photo.\n",
    "- Use your function in your projectile function to model the trajectory of your rocket."
   ]
  },
  {
   "cell_type": "markdown",
   "metadata": {},
   "source": [
    "# Area\n",
    "The parachute opening after the engine pops it out can be modeled by making the area a function. This function simply returns the value of the area of the rocket when it is given the time from the beginning of the launch. It might look something like this:\n",
    "```python\n",
    "def Area(time)\n",
    "    if (time<6):\n",
    "        A=0.2\n",
    "    else:      # after t is more than 6\n",
    "        A=.8\n",
    "    return A\n",
    "```\n",
    "Then this function can be used in place of the area in your function that models the trajectory of the rocket."
   ]
  },
  {
   "cell_type": "markdown",
   "metadata": {},
   "source": [
    "## <b><span style=\"color:red;\">Your Assignment:</span></b>  \n",
    "- Create a python function that models the rocket's area. Your function should output a area as a function of time. \n",
    "- Test your function by making a graph of area vs time.\n",
    "- Use your function in your projectile function to model the trajectory of your rocket."
   ]
  },
  {
   "cell_type": "markdown",
   "metadata": {},
   "source": [
    "# Wind\n",
    "Wind can have a huge effect on the trajectory of a rocket.  It will come into your projectile function by affecting drag.  Drag is an interaction between the projectile and the air around it.  When the air around it is moving we need to account for it.  The velocity that matters when calculating drag is the velocity relative to the air, not the velocity relative to the ground.  This relative to the air velocity can be found by simply subtracting the wind velocity.\n",
    "$$v_{air}=v_{ground}-v_{wind}$$\n",
    "If we assume that the wind is only in the $x$ direction then this subtraction only needs to be done to the $x$ component of the velocity."
   ]
  },
  {
   "cell_type": "code",
   "execution_count": null,
   "metadata": {},
   "outputs": [],
   "source": []
  },
  {
   "cell_type": "markdown",
   "metadata": {},
   "source": [
    "## <b><span style=\"color:red;\">Optional Assignment:</span></b>  \n",
    "- Modify your code to account for wind.\n",
    "- assume a wind speed of around 10m/s and test your function."
   ]
  },
  {
   "cell_type": "code",
   "execution_count": null,
   "metadata": {},
   "outputs": [],
   "source": []
  },
  {
   "cell_type": "markdown",
   "metadata": {},
   "source": [
    "# Optional automated error calculation \n",
    "Rather than just choosing extremes for the input parameters it is interesting to choose random values withing the range and then run the functions multiple times.  Each time the final result is kept.  These results are then used to find the average and standard deviation to get a better feel for the error."
   ]
  },
  {
   "cell_type": "code",
   "execution_count": 5,
   "metadata": {},
   "outputs": [
    {
     "name": "stdout",
     "output_type": "stream",
     "text": [
      "0.9047210593207006\n",
      "1.0358902921821873\n"
     ]
    },
    {
     "data": {
      "image/png": "[encoded data removed]",
      "text/plain": [
       "<Figure size 432x288 with 1 Axes>"
      ]
     },
     "metadata": {
      "needs_background": "light"
     },
     "output_type": "display_data"
    }
   ],
   "source": [
    "import random\n",
    "# set all the min and max for the input parameters\n",
    "y0max=1.01\n",
    "y0min=1.00\n",
    "v0max=3.01\n",
    "v0min=2.99\n",
    "thetamax=61\n",
    "thetamin=59\n",
    "Amax=0.015\n",
    "Amin=0.014\n",
    "Cmax=0.75\n",
    "Cmin=0.5\n",
    "rhomax=1.21\n",
    "rhomin=1.19\n",
    "mmax=0.020\n",
    "mmin=0.019\n",
    "# initialize the x list\n",
    "x=[]\n",
    "\n",
    "i=0 # just a counter so the while loop only goes so many times\n",
    "while (i<1000):\n",
    "    \n",
    "    i=i+1 # increment i so the while loop ends after so many times\n",
    "    \n",
    "    # set random values between min and max for each parameter\n",
    "    y0=random.uniform(y0min,y0max)\n",
    "    v0=random.uniform(v0min,v0max)\n",
    "    theta=random.uniform(thetamin,thetamax)\n",
    "    A=random.uniform(Amin,Amax)\n",
    "    C=random.uniform(Cmin,Cmax)\n",
    "    rho=random.uniform(rhomin,rhomax)\n",
    "    m=random.uniform(mmin,mmax)\n",
    "    \n",
    "    # make list of end results for each random input values\n",
    "    x.append(proj(y0,v0,theta,A,C,rho,m))\n",
    "\n",
    "#out min and max values\n",
    "print(min(x))\n",
    "print(max(x))"
   ]
  },
  {
   "cell_type": "markdown",
   "metadata": {},
   "source": [
    "As you can see the range for the final position is between 0.90 and 1.05.  Another way to show what is happening is do do a histogram on the final x list."
   ]
  },
  {
   "cell_type": "code",
   "execution_count": 6,
   "metadata": {},
   "outputs": [
    {
     "data": {
      "text/plain": [
       "(array([ 3.,  2.,  1.,  3.,  1.,  8., 16., 10., 11., 19., 24., 24., 24.,\n",
       "        20., 19., 28., 30., 29., 35., 34., 37., 30., 39., 27., 31., 33.,\n",
       "        35., 32., 33., 35., 34., 20., 28., 40., 21., 20., 22., 23., 23.,\n",
       "        15., 13., 18., 15.,  5., 11.,  8.,  3.,  4.,  2.,  2.]),\n",
       " array([0.90472106, 0.90734444, 0.90996783, 0.91259121, 0.9152146 ,\n",
       "        0.91783798, 0.92046137, 0.92308475, 0.92570814, 0.92833152,\n",
       "        0.93095491, 0.93357829, 0.93620168, 0.93882506, 0.94144844,\n",
       "        0.94407183, 0.94669521, 0.9493186 , 0.95194198, 0.95456537,\n",
       "        0.95718875, 0.95981214, 0.96243552, 0.96505891, 0.96768229,\n",
       "        0.97030568, 0.97292906, 0.97555245, 0.97817583, 0.98079921,\n",
       "        0.9834226 , 0.98604598, 0.98866937, 0.99129275, 0.99391614,\n",
       "        0.99653952, 0.99916291, 1.00178629, 1.00440968, 1.00703306,\n",
       "        1.00965645, 1.01227983, 1.01490321, 1.0175266 , 1.02014998,\n",
       "        1.02277337, 1.02539675, 1.02802014, 1.03064352, 1.03326691,\n",
       "        1.03589029]),\n",
       " <a list of 50 Patch objects>)"
      ]
     },
     "execution_count": 6,
     "metadata": {},
     "output_type": "execute_result"
    },
    {
     "data": {
      "image/png": "[encoded data removed]",
      "text/plain": [
       "<Figure size 432x288 with 1 Axes>"
      ]
     },
     "metadata": {
      "needs_background": "light"
     },
     "output_type": "display_data"
    }
   ],
   "source": [
    "plt.hist(x,50)"
   ]
  },
  {
   "cell_type": "markdown",
   "metadata": {},
   "source": [
    "## <b><span style=\"color:red;\">Optional Assignment:</span></b>  \n",
    "- use random numbers to make a list of possible values for the final range of <u>your</u> projectile function.\n",
    "- make a histogram of these values"
   ]
  },
  {
   "cell_type": "code",
   "execution_count": null,
   "metadata": {},
   "outputs": [],
   "source": []
  }
 ],
 "metadata": {
  "anaconda-cloud": {},
  "hide_input": false,
  "kernelspec": {
   "display_name": "Python 3",
   "language": "python",
   "name": "python3"
  },
  "language_info": {
   "codemirror_mode": {
    "name": "ipython",
    "version": 3
   },
   "file_extension": ".py",
   "mimetype": "text/x-python",
   "name": "python",
   "nbconvert_exporter": "python",
   "pygments_lexer": "ipython3",
   "version": "3.8.3"
  },
  "nav_menu": {},
  "toc": {
   "navigate_menu": true,
   "number_sections": true,
   "sideBar": true,
   "threshold": 6,
   "toc_cell": false,
   "toc_section_display": "block",
   "toc_window_display": true
  }
 },
 "nbformat": 4,
 "nbformat_minor": 4
}
