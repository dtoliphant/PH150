{
 "cells": [
  {
   "cell_type": "markdown",
   "metadata": {
    "toc": "true"
   },
   "source": [
    "# Table of Contents\n",
    " <p><div class=\"lev1 toc-item\"><a href=\"#Physics-150-Week-2---Error-Propagation-and-Fitting\" data-toc-modified-id=\"Physics-150-Week-2---Error-Propagation-and-Fitting-1\"><span class=\"toc-item-num\">1&nbsp;&nbsp;</span>Physics 150 Week 2 - Error Propagation and Fitting</a></div><div class=\"lev2 toc-item\"><a href=\"#Model\" data-toc-modified-id=\"Model-1.1\"><span class=\"toc-item-num\">1.1&nbsp;&nbsp;</span>Model</a></div><div class=\"lev2 toc-item\"><a href=\"#Measurement\" data-toc-modified-id=\"Measurement-1.2\"><span class=\"toc-item-num\">1.2&nbsp;&nbsp;</span>Measurement</a></div><div class=\"lev3 toc-item\"><a href=\"#Instrument-Uncertainty\" data-toc-modified-id=\"Instrument-Uncertainty-1.2.1\"><span class=\"toc-item-num\">1.2.1&nbsp;&nbsp;</span>Instrument Uncertainty</a></div><div class=\"lev3 toc-item\"><a href=\"#Systematic-Error\" data-toc-modified-id=\"Systematic-Error-1.2.2\"><span class=\"toc-item-num\">1.2.2&nbsp;&nbsp;</span>Systematic Error</a></div><div class=\"lev3 toc-item\"><a href=\"#Statistical-Error\" data-toc-modified-id=\"Statistical-Error-1.2.3\"><span class=\"toc-item-num\">1.2.3&nbsp;&nbsp;</span>Statistical Error</a></div><div class=\"lev3 toc-item\"><a href=\"#Your-Assignment:\" data-toc-modified-id=\"Your-Assignment:-1.2.4\"><span class=\"toc-item-num\">1.2.4&nbsp;&nbsp;</span><b><span style=\"color: red\">Your Assignment:</span></b></a></div><div class=\"lev2 toc-item\"><a href=\"#Error-Propagation\" data-toc-modified-id=\"Error-Propagation-1.3\"><span class=\"toc-item-num\">1.3&nbsp;&nbsp;</span>Error Propagation</a></div><div class=\"lev3 toc-item\"><a href=\"#Example-$x=f(u,v,q)=a*u*v*q$\" data-toc-modified-id=\"Example-$x=f(u,v,q)=a*u*v*q$-1.3.1\"><span class=\"toc-item-num\">1.3.1&nbsp;&nbsp;</span>Example <span class=\"MathJax_Preview\" style=\"color: inherit;\"></span><span class=\"MathJax\" id=\"MathJax-Element-23-Frame\" tabindex=\"0\" style=\"\"><nobr><span class=\"math\" id=\"MathJax-Span-180\" style=\"width: 14.169em; display: inline-block;\"><span style=\"display: inline-block; position: relative; width: 11.806em; height: 0px; font-size: 120%;\"><span style=\"position: absolute; clip: rect(1.685em, 1011.81em, 2.826em, -1000em); top: -2.5em; left: 0em;\"><span class=\"mrow\" id=\"MathJax-Span-181\"><span class=\"mi\" id=\"MathJax-Span-182\" style=\"font-family: STIXMathJax_Normal; font-style: italic;\">𝑥</span><span class=\"mo\" id=\"MathJax-Span-183\" style=\"font-family: STIXMathJax_Main; padding-left: 0.313em;\">=</span><span class=\"mi\" id=\"MathJax-Span-184\" style=\"font-family: STIXMathJax_Normal; font-style: italic; padding-left: 0.313em;\">𝑓<span style=\"display: inline-block; overflow: hidden; height: 1px; width: 0.06em;\"></span></span><span class=\"mo\" id=\"MathJax-Span-185\" style=\"font-family: STIXMathJax_Main;\">(</span><span class=\"mi\" id=\"MathJax-Span-186\" style=\"font-family: STIXMathJax_Normal; font-style: italic;\">𝑢</span><span class=\"mo\" id=\"MathJax-Span-187\" style=\"font-family: STIXMathJax_Main;\">,</span><span class=\"mi\" id=\"MathJax-Span-188\" style=\"font-family: STIXMathJax_Normal; font-style: italic; padding-left: 0.188em;\">𝑣</span><span class=\"mo\" id=\"MathJax-Span-189\" style=\"font-family: STIXMathJax_Main;\">,</span><span class=\"mi\" id=\"MathJax-Span-190\" style=\"font-family: STIXMathJax_Normal; font-style: italic; padding-left: 0.188em;\">𝑞<span style=\"display: inline-block; overflow: hidden; height: 1px; width: 0.005em;\"></span></span><span class=\"mo\" id=\"MathJax-Span-191\" style=\"font-family: STIXMathJax_Main;\">)</span><span class=\"mo\" id=\"MathJax-Span-192\" style=\"font-family: STIXMathJax_Main; padding-left: 0.313em;\">=</span><span class=\"mi\" id=\"MathJax-Span-193\" style=\"font-family: STIXMathJax_Normal; font-style: italic; padding-left: 0.313em;\">𝑎</span><span class=\"mo\" id=\"MathJax-Span-194\" style=\"font-family: STIXMathJax_Main; padding-left: 0.25em;\">∗</span><span class=\"mi\" id=\"MathJax-Span-195\" style=\"font-family: STIXMathJax_Normal; font-style: italic; padding-left: 0.25em;\">𝑢</span><span class=\"mo\" id=\"MathJax-Span-196\" style=\"font-family: STIXMathJax_Main; padding-left: 0.25em;\">∗</span><span class=\"mi\" id=\"MathJax-Span-197\" style=\"font-family: STIXMathJax_Normal; font-style: italic; padding-left: 0.25em;\">𝑣</span><span class=\"mo\" id=\"MathJax-Span-198\" style=\"font-family: STIXMathJax_Main; padding-left: 0.25em;\">∗</span><span class=\"mi\" id=\"MathJax-Span-199\" style=\"font-family: STIXMathJax_Normal; font-style: italic; padding-left: 0.25em;\">𝑞<span style=\"display: inline-block; overflow: hidden; height: 1px; width: 0.005em;\"></span></span></span><span style=\"display: inline-block; width: 0px; height: 2.5em;\"></span></span></span><span style=\"display: inline-block; overflow: hidden; vertical-align: -0.28em; border-left: 0px solid; width: 0px; height: 1.147em;\"></span></span></nobr></span><script type=\"math/tex\" id=\"MathJax-Element-23\">x=f(u,v,q)=a*u*v*q</script></a></div><div class=\"lev3 toc-item\"><a href=\"#Example-$x=f(u,v,q)=\\frac{a*u*v}{q}$\" data-toc-modified-id=\"Example-$x=f(u,v,q)=\\frac{a*u*v}{q}$-1.3.2\"><span class=\"toc-item-num\">1.3.2&nbsp;&nbsp;</span>Example <span class=\"MathJax_Preview\" style=\"color: inherit;\"></span><span class=\"MathJax\" id=\"MathJax-Element-30-Frame\" tabindex=\"0\" style=\"\"><nobr><span class=\"math\" id=\"MathJax-Span-345\" style=\"width: 10.743em; display: inline-block;\"><span style=\"display: inline-block; position: relative; width: 8.935em; height: 0px; font-size: 120%;\"><span style=\"position: absolute; clip: rect(1.624em, 1008.94em, 3.113em, -1000em); top: -2.5em; left: 0em;\"><span class=\"mrow\" id=\"MathJax-Span-346\"><span class=\"mi\" id=\"MathJax-Span-347\" style=\"font-family: STIXMathJax_Normal; font-style: italic;\">𝑥</span><span class=\"mo\" id=\"MathJax-Span-348\" style=\"font-family: STIXMathJax_Main; padding-left: 0.313em;\">=</span><span class=\"mi\" id=\"MathJax-Span-349\" style=\"font-family: STIXMathJax_Normal; font-style: italic; padding-left: 0.313em;\">𝑓<span style=\"display: inline-block; overflow: hidden; height: 1px; width: 0.06em;\"></span></span><span class=\"mo\" id=\"MathJax-Span-350\" style=\"font-family: STIXMathJax_Main;\">(</span><span class=\"mi\" id=\"MathJax-Span-351\" style=\"font-family: STIXMathJax_Normal; font-style: italic;\">𝑢</span><span class=\"mo\" id=\"MathJax-Span-352\" style=\"font-family: STIXMathJax_Main;\">,</span><span class=\"mi\" id=\"MathJax-Span-353\" style=\"font-family: STIXMathJax_Normal; font-style: italic; padding-left: 0.188em;\">𝑣</span><span class=\"mo\" id=\"MathJax-Span-354\" style=\"font-family: STIXMathJax_Main;\">,</span><span class=\"mi\" id=\"MathJax-Span-355\" style=\"font-family: STIXMathJax_Normal; font-style: italic; padding-left: 0.188em;\">𝑞<span style=\"display: inline-block; overflow: hidden; height: 1px; width: 0.005em;\"></span></span><span class=\"mo\" id=\"MathJax-Span-356\" style=\"font-family: STIXMathJax_Main;\">)</span><span class=\"mo\" id=\"MathJax-Span-357\" style=\"font-family: STIXMathJax_Main; padding-left: 0.313em;\">=</span><span class=\"mfrac\" id=\"MathJax-Span-358\" style=\"padding-left: 0.313em;\"><span style=\"display: inline-block; position: relative; width: 1.908em; height: 0px; margin-right: 0.12em; margin-left: 0.12em;\"><span style=\"position: absolute; clip: rect(3.51em, 1001.77em, 4.127em, -1000em); top: -4.385em; left: 50%; margin-left: -0.894em;\"><span class=\"mrow\" id=\"MathJax-Span-359\"><span class=\"mi\" id=\"MathJax-Span-360\" style=\"font-size: 70.7%; font-family: STIXMathJax_Normal; font-style: italic;\">𝑎</span><span class=\"mo\" id=\"MathJax-Span-361\" style=\"font-size: 70.7%; font-family: STIXMathJax_Main;\">∗</span><span class=\"mi\" id=\"MathJax-Span-362\" style=\"font-size: 70.7%; font-family: STIXMathJax_Normal; font-style: italic;\">𝑢</span><span class=\"mo\" id=\"MathJax-Span-363\" style=\"font-size: 70.7%; font-family: STIXMathJax_Main;\">∗</span><span class=\"mi\" id=\"MathJax-Span-364\" style=\"font-size: 70.7%; font-family: STIXMathJax_Normal; font-style: italic;\">𝑣</span></span><span style=\"display: inline-block; width: 0px; height: 3.981em;\"></span></span><span style=\"position: absolute; clip: rect(3.531em, 1000.33em, 4.25em, -1000em); top: -3.637em; left: 50%; margin-left: -0.164em;\"><span class=\"mi\" id=\"MathJax-Span-365\" style=\"font-size: 70.7%; font-family: STIXMathJax_Normal; font-style: italic;\">𝑞<span style=\"display: inline-block; overflow: hidden; height: 1px; width: 0.004em;\"></span></span><span style=\"display: inline-block; width: 0px; height: 3.981em;\"></span></span><span style=\"position: absolute; clip: rect(0.866em, 1001.91em, 1.204em, -1000em); top: -1.285em; left: 0em;\"><span style=\"display: inline-block; overflow: hidden; vertical-align: 0em; border-top: 1.3px solid; width: 1.908em; height: 0px;\"></span><span style=\"display: inline-block; width: 0px; height: 1.065em;\"></span></span></span></span></span><span style=\"display: inline-block; width: 0px; height: 2.5em;\"></span></span></span><span style=\"display: inline-block; overflow: hidden; vertical-align: -0.625em; border-left: 0px solid; width: 0px; height: 1.565em;\"></span></span></nobr></span><script type=\"math/tex\" id=\"MathJax-Element-30\">x=f(u,v,q)=\\frac{a*u*v}{q}</script></a></div><div class=\"lev3 toc-item\"><a href=\"#Example-$x=f(u)=au^b$\" data-toc-modified-id=\"Example-$x=f(u)=au^b$-1.3.3\"><span class=\"toc-item-num\">1.3.3&nbsp;&nbsp;</span>Example <span class=\"MathJax_Preview\" style=\"color: inherit;\"></span><span class=\"MathJax\" id=\"MathJax-Element-32-Frame\" tabindex=\"0\" style=\"\"><nobr><span class=\"math\" id=\"MathJax-Span-407\" style=\"width: 7.595em; display: inline-block;\"><span style=\"display: inline-block; position: relative; width: 6.296em; height: 0px; font-size: 120%;\"><span style=\"position: absolute; clip: rect(1.526em, 1006.3em, 2.826em, -1000em); top: -2.5em; left: 0em;\"><span class=\"mrow\" id=\"MathJax-Span-408\"><span class=\"mi\" id=\"MathJax-Span-409\" style=\"font-family: STIXMathJax_Normal; font-style: italic;\">𝑥</span><span class=\"mo\" id=\"MathJax-Span-410\" style=\"font-family: STIXMathJax_Main; padding-left: 0.313em;\">=</span><span class=\"mi\" id=\"MathJax-Span-411\" style=\"font-family: STIXMathJax_Normal; font-style: italic; padding-left: 0.313em;\">𝑓<span style=\"display: inline-block; overflow: hidden; height: 1px; width: 0.06em;\"></span></span><span class=\"mo\" id=\"MathJax-Span-412\" style=\"font-family: STIXMathJax_Main;\">(</span><span class=\"mi\" id=\"MathJax-Span-413\" style=\"font-family: STIXMathJax_Normal; font-style: italic;\">𝑢</span><span class=\"mo\" id=\"MathJax-Span-414\" style=\"font-family: STIXMathJax_Main;\">)</span><span class=\"mo\" id=\"MathJax-Span-415\" style=\"font-family: STIXMathJax_Main; padding-left: 0.313em;\">=</span><span class=\"mi\" id=\"MathJax-Span-416\" style=\"font-family: STIXMathJax_Normal; font-style: italic; padding-left: 0.313em;\">𝑎</span><span class=\"msubsup\" id=\"MathJax-Span-417\"><span style=\"display: inline-block; position: relative; width: 0.881em; height: 0px;\"><span style=\"position: absolute; clip: rect(3.402em, 1000.44em, 4.129em, -1000em); top: -3.981em; left: 0em;\"><span class=\"mi\" id=\"MathJax-Span-418\" style=\"font-family: STIXMathJax_Normal; font-style: italic;\">𝑢</span><span style=\"display: inline-block; width: 0px; height: 3.981em;\"></span></span><span style=\"position: absolute; top: -4.344em; left: 0.474em;\"><span class=\"mi\" id=\"MathJax-Span-419\" style=\"font-size: 70.7%; font-family: STIXMathJax_Normal; font-style: italic;\">𝑏</span><span style=\"display: inline-block; width: 0px; height: 3.981em;\"></span></span></span></span></span><span style=\"display: inline-block; width: 0px; height: 2.5em;\"></span></span></span><span style=\"display: inline-block; overflow: hidden; vertical-align: -0.28em; border-left: 0px solid; width: 0px; height: 1.338em;\"></span></span></nobr></span><script type=\"math/tex\" id=\"MathJax-Element-32\">x=f(u)=au^b</script></a></div><div class=\"lev3 toc-item\"><a href=\"#Example$x=f(u)=ae^{bu}$\" data-toc-modified-id=\"Example$x=f(u)=ae^{bu}$-1.3.4\"><span class=\"toc-item-num\">1.3.4&nbsp;&nbsp;</span>Example<span class=\"MathJax_Preview\" style=\"color: inherit;\"></span><span class=\"MathJax\" id=\"MathJax-Element-38-Frame\" tabindex=\"0\" style=\"\"><nobr><span class=\"math\" id=\"MathJax-Span-446\" style=\"width: 7.965em; display: inline-block;\"><span style=\"display: inline-block; position: relative; width: 6.62em; height: 0px; font-size: 120%;\"><span style=\"position: absolute; clip: rect(1.526em, 1006.62em, 2.826em, -1000em); top: -2.5em; left: 0em;\"><span class=\"mrow\" id=\"MathJax-Span-447\"><span class=\"mi\" id=\"MathJax-Span-448\" style=\"font-family: STIXMathJax_Normal; font-style: italic;\">𝑥</span><span class=\"mo\" id=\"MathJax-Span-449\" style=\"font-family: STIXMathJax_Main; padding-left: 0.313em;\">=</span><span class=\"mi\" id=\"MathJax-Span-450\" style=\"font-family: STIXMathJax_Normal; font-style: italic; padding-left: 0.313em;\">𝑓<span style=\"display: inline-block; overflow: hidden; height: 1px; width: 0.06em;\"></span></span><span class=\"mo\" id=\"MathJax-Span-451\" style=\"font-family: STIXMathJax_Main;\">(</span><span class=\"mi\" id=\"MathJax-Span-452\" style=\"font-family: STIXMathJax_Normal; font-style: italic;\">𝑢</span><span class=\"mo\" id=\"MathJax-Span-453\" style=\"font-family: STIXMathJax_Main;\">)</span><span class=\"mo\" id=\"MathJax-Span-454\" style=\"font-family: STIXMathJax_Main; padding-left: 0.313em;\">=</span><span class=\"mi\" id=\"MathJax-Span-455\" style=\"font-family: STIXMathJax_Normal; font-style: italic; padding-left: 0.313em;\">𝑎</span><span class=\"msubsup\" id=\"MathJax-Span-456\"><span style=\"display: inline-block; position: relative; width: 1.188em; height: 0px;\"><span style=\"position: absolute; clip: rect(3.402em, 1000.41em, 4.131em, -1000em); top: -3.981em; left: 0em;\"><span class=\"mi\" id=\"MathJax-Span-457\" style=\"font-family: STIXMathJax_Normal; font-style: italic;\">𝑒</span><span style=\"display: inline-block; width: 0px; height: 3.981em;\"></span></span><span style=\"position: absolute; top: -4.344em; left: 0.445em;\"><span class=\"texatom\" id=\"MathJax-Span-458\"><span class=\"mrow\" id=\"MathJax-Span-459\"><span class=\"mi\" id=\"MathJax-Span-460\" style=\"font-size: 70.7%; font-family: STIXMathJax_Normal; font-style: italic;\">𝑏</span><span class=\"mi\" id=\"MathJax-Span-461\" style=\"font-size: 70.7%; font-family: STIXMathJax_Normal; font-style: italic;\">𝑢</span></span></span><span style=\"display: inline-block; width: 0px; height: 3.981em;\"></span></span></span></span></span><span style=\"display: inline-block; width: 0px; height: 2.5em;\"></span></span></span><span style=\"display: inline-block; overflow: hidden; vertical-align: -0.28em; border-left: 0px solid; width: 0px; height: 1.338em;\"></span></span></nobr></span><script type=\"math/tex\" id=\"MathJax-Element-38\">x=f(u)=ae^{bu}</script></a></div><div class=\"lev3 toc-item\"><a href=\"#Your-Assignment:\" data-toc-modified-id=\"Your-Assignment:-1.3.5\"><span class=\"toc-item-num\">1.3.5&nbsp;&nbsp;</span><b><span style=\"color: red\">Your Assignment:</span></b></a></div><div class=\"lev2 toc-item\"><a href=\"#Fitting,-or-Regression\" data-toc-modified-id=\"Fitting,-or-Regression-1.4\"><span class=\"toc-item-num\">1.4&nbsp;&nbsp;</span>Fitting, or Regression</a></div><div class=\"lev3 toc-item\"><a href=\"#Libraries\" data-toc-modified-id=\"Libraries-1.4.1\"><span class=\"toc-item-num\">1.4.1&nbsp;&nbsp;</span>Libraries</a></div><div class=\"lev3 toc-item\"><a href=\"#Linear-fitting\" data-toc-modified-id=\"Linear-fitting-1.4.2\"><span class=\"toc-item-num\">1.4.2&nbsp;&nbsp;</span>Linear fitting</a></div><div class=\"lev3 toc-item\"><a href=\"#Your-Assignment:\" data-toc-modified-id=\"Your-Assignment:-1.4.3\"><span class=\"toc-item-num\">1.4.3&nbsp;&nbsp;</span><b><span style=\"color: red\">Your Assignment:</span></b></a></div>"
   ]
  },
  {
   "cell_type": "markdown",
   "metadata": {},
   "source": [
    "# Physics 150 Week 2 - Error Propagation and Fitting\n",
    "Physics and Science in general relies on measurements to back up models we use to describe the world around us.  Knowing how to make good measurements, and knowing the associated errors is a crucial part of this process.  In this lab we will look at what a measurements is and how to take a good measurement.  We will also look at the different types of error that can come with any measurement.  We will consider ways of reducing those errors and how to represent them.  We will also begin to learn about how to propagate measurements error into the calculations we do with those measurements."
   ]
  },
  {
   "cell_type": "markdown",
   "metadata": {},
   "source": [
    "## Model\n",
    "Science uses models to describe our natural world.  A model is a representation of reality that tries to capture the most important and relevant parts of the system being modeled.  There are many different types and uses of models.  A model airplane is an example.  It likely will have wings and maybe some controls; but it will lack a in-flight entertainment system.  Focusing on the most important parts allows us to 'simplify and solve', another common theme in physics.  Models don't have to be physical.  A mathematical model can also help us explain some aspect of the world.  Later in the semester we will develop a computer model.  These non-physical models also help us make predictions.  They usually have some kind of starting points or input parameters.  Then they give you some results that you can expect to see in real life.  However, using a model to make predictions has limitations.  Sometimes those limitations come from an inaccurate model.  Sometimes they are a result of not including enough details in the model.  Often limitations come from the measurements we use as starting points and inputs to our model.  Knowing how much uncertainty in the models predictions is associated with the error in our measurements can help us discern the quality of our model.  To help us focus on the uncertainty in our measurements and their propagation to a result we will start with some very simple and well accepted mathematical models.  We will look at the relationship between a circle’s diameter and its circumference and at the density of a cylinder. $$C=\\pi D$$ and $$\\rho=\\frac{m}{V}$$, $$V=\\pi r^2 l$$"
   ]
  },
  {
   "cell_type": "markdown",
   "metadata": {},
   "source": [
    "## Measurement\n",
    "A measurement is a comparison to a standard.  The instrument used to make a measurement and the process can both affect the quality of the measurement.  These introduce two types of errors.  Instrument uncertainty and systematic error are two.  Statistical error is another type of error inherent in any measurement.  It is important when making a measurement to consider each of these and how to reduce their affects.\n",
    "### Instrument Uncertainty\n",
    "Instrument uncertainty is technically not an error.  It is just a limitation of the instrument used to measure.  For example: a meter stick usually just has marks every millimeter.  This limits the precision you can get with this instrument.  On the other hand, a micrometer has a precision about a thousand times smaller.  Thus, the uncertainty in a measurement can be reduced by choosing the best instrument for the job.  It’s probably not best to use a meter stick when measuring the thickness of a piece of paper when a micrometer is available.  However, you wouldn't use a micrometer to measure the size of a room.  Another way to reduce this uncertainty, or at least to quantify it, is to know your instrument and how to use it.  For example: a meter stick only has millimeter marks, but it is possible if you measure something carefully to see that it is less than half way to the next millimeter mark.  So the uncertainty can actually be a bit smaller than these marks, maybe as small as $\\frac{1}{4}$ of a millimeter. These uncertainty are express as a plus or minus after the measurement.  Or if all the measurements have the same uncertainty you can simply state that value before or after the measurements. For example: the length of table is measured to be 1.5465 m $\\pm$ 0.00025m.  By the way the $\\pm$ symbol is made with back-slash then pm between two dollar signs.\n",
    "### Systematic Error\n",
    "This is real error.  It comes about by using a damaged measurement instrument or using it in the wrong way. An example is a meter stick with a few millimeters cut off the zero end.  Sometimes when an instrument is used incorrectly it is called human error.  These kinds of errors need to be identified and eliminated. Simply stating there was human error when things don't go the way you expect is completely insufficient.  Doing so will reduce your grade.  Rather, if things don't work out the way you expect and you think there may be some kind of systematic error please think carefully about exactly how that error came about.  If possible, go back and fix it.  If not, describe in detail how it came about.\n",
    "### Statistical Error\n",
    "If many measurements are make of the same thing those measurements are often different.  Assuming all those measurements are made correctly (ruling out systematic error) the differences can be considered statistical.  An easy way to find the best value to use is to take an average of all the measurements.  The standard deviation can be a useful value to express the size of this type of error.  There is much more than can be said about this, but for now here are the equations for average and standard deviation.\n",
    "\n",
    "Average: $$\\mu=\\sum_i \\frac{x_i}{N}$$ \n",
    "The standard deviation: $$\\sigma=\\sqrt{ \\sum_i \\frac{(x_i-\\mu)^2}{N-1}}$$ \n",
    "Here $x_i$ represents each of the values measured and $N$ is the total number of values measured."
   ]
  },
  {
   "cell_type": "markdown",
   "metadata": {},
   "source": [
    "### <b><span style=\"color:red;\">Your Assignment:</span></b>  \n",
    "While considering the above types of error, make the following measurements:\n",
    "- Create a Jypyter notebook with a header that states your name, PH150 sec 1 and the date.\n",
    "- Record each of the following measurements and their uncertainty in this Jupyter notebook.  Put this data into an numpy array.\n",
    "- Write a brief description around each of these measurements.\n",
    "- Measure the diameter and circumference of at least 5 metal circles\n",
    "- Measure the diameter, length and mass of 4 different metal cylinders\n",
    "- Measure the length, width, hight and mass of a copper block\n"
   ]
  },
  {
   "cell_type": "markdown",
   "metadata": {},
   "source": [
    "## Error Propagation\n",
    "Measurements are often used to calculate other useful quantities.  There are in fact very few quantities that are directly measured.  Velocity is calculated from the measurement of time and distance.  Volume is calculated from three length measurements.  I'm sure you could think of other examples.  In order to understand how well we know these calculated values we need to propagate the errors in the measurements through the calculation. We need to see the affects of each of the measurement errors on the final value.  We will look at this process for a number of common examples, but first the general equation.  This general form you will not need to use in this class (we'll give the the specific equations you'll need).  I show it here for those who have had differential equations and to help you see the reasoning behind the specific equations.  Let's say you are trying to find the error in the calculated value $x$.  It is calculated from the values $u$, $v$ and $q$. Such that $x=f(u,v,q)$.  Then the error in $x$ represented as $\\sigma_x$ is given by:\n",
    "\n",
    "$$\\sigma_x^2=\\sigma_u^2(\\frac{\\partial f}{\\partial u})^2+\\sigma_v^2(\\frac{\\partial f}{\\partial v})^2+\\sigma_q^2(\\frac{\\partial f}{\\partial q})^2$$\n",
    "Here the error in $u$ is $\\sigma_u$ and $v$ is $\\sigma_v$ etc. The following are some simple examples that are common."
   ]
  },
  {
   "cell_type": "markdown",
   "metadata": {},
   "source": [
    "### Example $x=f(u,v,q)=a*u*v*q$\n",
    "When the variables are multiplied by each other and by the constant $a$. A simple volume calculation is an example of this: $V=h*w*l$. The error is then calculated with \n",
    "\n",
    "$$ \\sigma_x^2=\\sigma_u^2(avq)^2+\\sigma_v^2(auq)^2+\\sigma_q^2(avu)^2 $$\n",
    "\n",
    "This equation is often written in terms of the ratio of a variable's error and its value.  This is done by taking the above equation and dividing both sides by $x=f(u,v,q)$ squared. Like so:\n",
    "\n",
    "$$(\\frac{\\sigma_x}{x})^2=(\\frac{\\sigma_u}{u})^2+(\\frac{\\sigma_v}{v})^2+(\\frac{\\sigma_q}{q})^2$$\n",
    "\n",
    "The error in the example of volume is given by:\n",
    "\n",
    "$$\\sigma_V=V\\sqrt{(\\frac{\\sigma_h}{h})^2+(\\frac{\\sigma_w}{w})^2+(\\frac{\\sigma_l}{l})^2}$$"
   ]
  },
  {
   "cell_type": "markdown",
   "metadata": {},
   "source": [
    "### Example $x=f(u,v,q)=\\frac{a*u*v}{q}$\n",
    "Dividing in an equation is the same as multiplying the the inverse. If writen as a ratio of the error and the value the error propigation equation for division becomes the same as the multiplicative equation:\n",
    "\n",
    "$$(\\frac{\\sigma_x}{x})^2=(\\frac{\\sigma_u}{u})^2+(\\frac{\\sigma_v}{v})^2+(\\frac{\\sigma_q}{q})^2$$"
   ]
  },
  {
   "cell_type": "markdown",
   "metadata": {},
   "source": [
    "### Example $x=f(u)=au^b$\n",
    "Here $a$ and $b$ are both constants.  The error in $x$ given the error in $u$ is given as $$\\frac{\\sigma_x}{x}=b\\frac{\\sigma_u}{u}$$"
   ]
  },
  {
   "cell_type": "markdown",
   "metadata": {},
   "source": [
    "### Example$x=f(u)=ae^{bu}$\n",
    "$$\\frac{\\sigma_x}{x}=b\\sigma_u$$"
   ]
  },
  {
   "cell_type": "markdown",
   "metadata": {},
   "source": [
    "There are of course many others.  When you learn to use the general equation you can easily generate the more specific equations for any relationship."
   ]
  },
  {
   "cell_type": "markdown",
   "metadata": {},
   "source": [
    "### <b><span style=\"color:red;\">Your Assignment:</span></b>  \n",
    "By appropriately using the above equations do the following in your Jupyter notebook for this lab.\n",
    "- Using each of the 5 measurements of diameter and circumference calculate the value of $\\pi$ and its error.\n",
    "- Compare each of these values of $\\pi$ with each other and with the accepted value of 3.1415926... What is the percent error for each?\n",
    "- Using your measurements for the metal cylinders and block, calculate for each their densities and its error.\n",
    "- Compare densities of the two copper objects and look up the accepted values for copper and the other other metals."
   ]
  },
  {
   "cell_type": "markdown",
   "metadata": {
    "collapsed": true
   },
   "source": [
    "## Fitting, or Regression\n",
    "In the above assignment you used 5 sets of values for the diameter and circumference to calculate 5 values for pi. We know however that the value pi should be the same for each of these. It would be better if you could use all of your data to calculate one value of pi. This should significantly reduce the error in the value you get for pi. We can do this with curve fitting. Here is another good video describing how to do this. [Video1](https://www.youtube.com/watch?v=Kk5_3QAEFuI&list=WL&index=107&t=0s) Alos the one you should have already watched [here](https://www.youtube.com/watch?v=ro5ftxuD6is)."
   ]
  },
  {
   "cell_type": "markdown",
   "metadata": {},
   "source": [
    "### Libraries\n",
    "First you will need a number of libraries of functions to so some math and plotting. Be sure to include this set of imports when ever you need their functions. You can use this format like you did in last weeks lab\n",
    "```python\n",
    "import matplotlib.pyplot as plt\n",
    "```\n",
    "Then when use use a function from this library you need to include the 'plt' before it like so:\n",
    "```python\n",
    "plt.plot(x,y)\n",
    "```\n",
    "This can be useful if you have a number of different libraries that have the same functions. It also helps you remember what library a function comes from. But there is another way if you don't expect this to be a problem you can use this format:\n",
    "```python\n",
    "from matplotlib.pyplot import *\n",
    "```\n",
    "Then just use the function without the prefix like so\n",
    "```python\n",
    "plot(x,y)\n",
    "```\n",
    "Most of the labs we will be doing in the future will use functions from [matplotlib](https://matplotlib.org/1.5.1/users/pyplot_tutorial.html), [numpy](https://www.numpy.org/devdocs/) and [scipy](https://www.scipy.org/docs.html). I would recommend having somewhere near the beginning of each Jupyter notebook something like the following"
   ]
  },
  {
   "cell_type": "code",
   "execution_count": 1,
   "metadata": {},
   "outputs": [],
   "source": [
    "from matplotlib.pyplot import *\n",
    "%matplotlib inline\n",
    "from numpy import *\n",
    "#from scipy.interpolate import *"
   ]
  },
  {
   "cell_type": "markdown",
   "metadata": {},
   "source": [
    "It may need to vary a bit depending on what you will need to use in that labs notebook. I'd also recommend spending some time browsing the links to each of these libraries. We will look at a few functions from these, but there is much more. For example the link for matplotlib shows you how to label plot axis and other cool plot things. Take a look at the link and use what you learn."
   ]
  },
  {
   "cell_type": "markdown",
   "metadata": {},
   "source": [
    "### Linear fitting\n",
    "For todays lab you will only be fitting to a strait line. But the functions you will be using can also be used to fit to polynomials of any order. You already have some data, your measurements of diameter and circumference. So I can show you an example I'll just make up some of my own data. Much of this process you should have already seen when you watched the video and worked through an example of your own. Feel free to skip this part and jump to the assignment if that went well for you. "
   ]
  },
  {
   "cell_type": "code",
   "execution_count": 2,
   "metadata": {},
   "outputs": [
    {
     "data": {
      "text/plain": [
       "[<matplotlib.lines.Line2D at 0x18ef507af98>]"
      ]
     },
     "execution_count": 2,
     "metadata": {},
     "output_type": "execute_result"
    },
    {
     "data": {
      "image/png": "[encoded data removed]",
      "text/plain": [
       "<Figure size 432x288 with 1 Axes>"
      ]
     },
     "metadata": {
      "needs_background": "light"
     },
     "output_type": "display_data"
    }
   ],
   "source": [
    "diam=array([1, 2, 3, 4])\n",
    "circ=array([3.4,6.2,9.1,12.7])\n",
    "plot(diam,circ,'o')\n",
    "\n"
   ]
  },
  {
   "cell_type": "markdown",
   "metadata": {},
   "source": [
    "Now for the fitting part use a function from the library numpy called polyfit. It takes three inputs, first the independent variable, next the dependent variable and last the order of the polynomial. A line is just a 1st order polynomial. It outputs an array of the fit parameters. In this case the slope and the y intercept. "
   ]
  },
  {
   "cell_type": "code",
   "execution_count": 3,
   "metadata": {},
   "outputs": [
    {
     "name": "stdout",
     "output_type": "stream",
     "text": [
      "[3.08 0.15]\n"
     ]
    }
   ],
   "source": [
    "p=polyfit(diam,circ,1)\n",
    "print(p)"
   ]
  },
  {
   "cell_type": "markdown",
   "metadata": {},
   "source": [
    "You can do the same thing but assign each value in the array to a different variable like so"
   ]
  },
  {
   "cell_type": "code",
   "execution_count": 4,
   "metadata": {},
   "outputs": [
    {
     "name": "stdout",
     "output_type": "stream",
     "text": [
      "3.0799999999999996 0.15000000000000127\n"
     ]
    }
   ],
   "source": [
    "[m,b]=polyfit(diam,circ,1)\n",
    "print(m,b)"
   ]
  },
  {
   "cell_type": "markdown",
   "metadata": {},
   "source": [
    "You can use another function from the scipy library to use the parameters to find values of y for each value of x. Like so"
   ]
  },
  {
   "cell_type": "code",
   "execution_count": 4,
   "metadata": {},
   "outputs": [
    {
     "name": "stdout",
     "output_type": "stream",
     "text": [
      "[ 3.23  6.31  9.39 12.47]\n"
     ]
    }
   ],
   "source": [
    "ycal=polyval(p,diam)\n",
    "print(ycal)"
   ]
  },
  {
   "cell_type": "markdown",
   "metadata": {},
   "source": [
    "Then plotting both on the same plot shows how well they match."
   ]
  },
  {
   "cell_type": "code",
   "execution_count": 5,
   "metadata": {},
   "outputs": [
    {
     "data": {
      "text/plain": [
       "[<matplotlib.lines.Line2D at 0x18ef53d7748>]"
      ]
     },
     "execution_count": 5,
     "metadata": {},
     "output_type": "execute_result"
    },
    {
     "data": {
      "image/png": "[encoded data removed]",
      "text/plain": [
       "<Figure size 432x288 with 1 Axes>"
      ]
     },
     "metadata": {
      "needs_background": "light"
     },
     "output_type": "display_data"
    }
   ],
   "source": [
    "plot(diam,circ,'o')\n",
    "plot(diam,ycal,'r')"
   ]
  },
  {
   "cell_type": "markdown",
   "metadata": {},
   "source": [
    "### <b><span style=\"color:red;\">Your Assignment:</span></b>  \n",
    "\n",
    "- Fit your data from measuring diameter and circumference to a line. \n",
    "- Plot the data and the line on the same plot. Include labels for both axis and a title.\n",
    "- Determine the value of pi from the fit parameters.\n",
    "- Compare this value of $\\pi$ with the accepted value of 3.1415926... What is the percent error?"
   ]
  },
  {
   "cell_type": "markdown",
   "metadata": {},
   "source": [
    "Note: The fit parameters you found also have an error or uncertainty associated with them. You will learn about how to find and use these values later. "
   ]
  },
  {
   "cell_type": "code",
   "execution_count": null,
   "metadata": {},
   "outputs": [],
   "source": []
  },
  {
   "cell_type": "code",
   "execution_count": 9,
   "metadata": {},
   "outputs": [],
   "source": []
  },
  {
   "cell_type": "code",
   "execution_count": null,
   "metadata": {},
   "outputs": [],
   "source": []
  }
 ],
 "metadata": {
  "anaconda-cloud": {},
  "celltoolbar": "Raw Cell Format",
  "hide_input": false,
  "kernelspec": {
   "display_name": "Python 3",
   "language": "python",
   "name": "python3"
  },
  "language_info": {
   "codemirror_mode": {
    "name": "ipython",
    "version": 3
   },
   "file_extension": ".py",
   "mimetype": "text/x-python",
   "name": "python",
   "nbconvert_exporter": "python",
   "pygments_lexer": "ipython3",
   "version": "3.8.3"
  },
  "nav_menu": {},
  "toc": {
   "navigate_menu": true,
   "number_sections": true,
   "sideBar": true,
   "threshold": 6,
   "toc_cell": true,
   "toc_section_display": "block",
   "toc_window_display": true
  }
 },
 "nbformat": 4,
 "nbformat_minor": 1
}
