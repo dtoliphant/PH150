{
 "cells": [
  {
   "cell_type": "markdown",
   "metadata": {
    "toc": "true"
   },
   "source": [
    "# Table of Contents\n",
    " <p><div class=\"lev1 toc-item\"><a data-toc-modified-id=\"Physics-150-Week-1-1\" href=\"#Physics-150-Week-1\"><span class=\"toc-item-num\">1&nbsp;&nbsp;</span>Physics 150 Week 1</a></div><div class=\"lev2 toc-item\"><a data-toc-modified-id=\"Jupyter-Introduction-1.1\" href=\"#Jupyter-Introduction\"><span class=\"toc-item-num\">1.1&nbsp;&nbsp;</span>Jupyter Introduction</a></div><div class=\"lev2 toc-item\"><a data-toc-modified-id=\"Python-Introduction-1.2\" href=\"#Python-Introduction\"><span class=\"toc-item-num\">1.2&nbsp;&nbsp;</span>Python Introduction</a></div><div class=\"lev3 toc-item\"><a data-toc-modified-id=\"Calculator-/-variables-1.2.1\" href=\"#Calculator-/-variables\"><span class=\"toc-item-num\">1.2.1&nbsp;&nbsp;</span>Calculator / variables</a></div><div class=\"lev3 toc-item\"><a data-toc-modified-id=\"Data-types-1.2.2\" href=\"#Data-types\"><span class=\"toc-item-num\">1.2.2&nbsp;&nbsp;</span>Data types</a></div><div class=\"lev3 toc-item\"><a data-toc-modified-id=\"Lists-1.2.3\" href=\"#Lists\"><span class=\"toc-item-num\">1.2.3&nbsp;&nbsp;</span>Lists</a></div><div class=\"lev3 toc-item\"><a data-toc-modified-id=\"Importing-libraries-1.2.4\" href=\"#Importing-libraries\"><span class=\"toc-item-num\">1.2.4&nbsp;&nbsp;</span>Importing libraries</a></div><div class=\"lev3 toc-item\"><a data-toc-modified-id=\"Ploting-1.2.5\" href=\"#Ploting\"><span class=\"toc-item-num\">1.2.5&nbsp;&nbsp;</span>Ploting</a></div><div class=\"lev1 toc-item\"><a data-toc-modified-id=\"Other-2\" href=\"#Other\"><span class=\"toc-item-num\">2&nbsp;&nbsp;</span>Other</a></div>"
   ]
  },
  {
   "cell_type": "markdown",
   "metadata": {},
   "source": [
    "# Physics 150 Week 1 "
   ]
  },
  {
   "cell_type": "markdown",
   "metadata": {},
   "source": [
    "This semester you will learn about how to model a physical system as computer code.  You will also learn the basics of error analysis. The things we will study could be applied to many physical systems, but for this class we will focus on modeling projectile motion.  The programing language we will use is called Python.  Python is a great first language, and once you learn one language you will find it is much easier to learn others.\n",
    "\n",
    "As part of learning Python you will also learn a notebook called Jupyter.  Jupyter allows you to write notes, show images, write and run Phython code, and much more all in the same document.  These documents will be turned in each week to show the work you have done. In these notebooks I expect good writing.  That means, among other things, that there are clear explanations of equations and plots.  Also that there are smooth transitions from one idea to another.  This document is written in Jupyter and serves as an example of what I expect."
   ]
  },
  {
   "cell_type": "markdown",
   "metadata": {},
   "source": [
    "## Jupyter Introduction\n",
    "Jupyter is a platform for creating documents that include programming code.  Text is entered into boxes, or cells. There are basically two different types of cells we will use most, Code cells and Markdown cells.  The type of cell you are currently working on can be changed by changing a the value of a drop down menu at top of the page.  If you don't yet have Jupyter installed on your computer please install it from [here](http://jupyter.readthedocs.io/en/latest/install.html).  You can also try it out without installing it [here](https://tmp54.tmpnb.org/user/FMH5HhFlGmUa/notebooks/Welcome%20to%20Python.ipynb).\n",
    "\n",
    "Code cells are for entering programming code.  These cells have a In[] with a number in the brackets. The code is run when the cursor is in the cell and you press \"Shift\" and \"Enter\" at the same time. We will be using Code cells to run Python code, but there are many different languages that could be used in these cells.\n",
    "\n",
    "Markdown cells are for entering text, or other informative material.  The text can include formating information, or other marks that show what should be displayed.  For example headers are markdown cells that start with the '#' symbol. HTML and LaTex can also be entered.  We will make use of LaTex a great deal this semester. LaTex code is a way to make mathematical symbols and equations.  To start and end a LaTex portion within a cell you use the dollar symbol (<b>$</b>) or two dollar symbols (<b>$$</b>).  Try it each and see the difference it makes.  All kinds of mathematics can be expressed this way.  For example $$\\int e^{i \\pi} \\cos\\left[\\frac{2\\pi}{\\lambda}x\\right] dx$$ A short list of a number of other things you can do in the markdown cells is given in this [totoral](http://nbviewer.jupyter.org/github/twistedhardware/mltutorial/blob/master/notebooks/jupyter/2.%20Markdown%20%26%20LaTeX.ipynb#).\n",
    "\n",
    "<b><span style=\"color:red;\">Your Assignment:</span></b>\n",
    "Take a look at the link above and create a Jupyter document with markdown cells that include at least the following:\n",
    "- 2 equations, one in text and the other on its own line.\n",
    "- headings\n",
    "- Some simple HTML code\n",
    "\n",
    "The text surrounding the above should be readable and express a narrative.\n"
   ]
  },
  {
   "cell_type": "markdown",
   "metadata": {},
   "source": [
    "## Python Introduction\n",
    "Python is a well developed programing language comparable to Matlab, Java or C++. It is open source and has many capabilities. It also has a large community of support.  In Physics 150 we will only be looking at some of the basics.  We will focus on the mathematics and plotting features.  Please feel free to look into other features you may be interested in.  \n",
    "\n",
    "### Calculator / variables\n",
    "Python has all the basic functions of a simple calculator, addition, subtraction, multiplication and division.  It follows standard order of operation rules.  If you need to type in a long operation it is highly recommended that you use parentheses to make it clear what is/should be computed first.\n",
    "\n"
   ]
  },
  {
   "cell_type": "code",
   "execution_count": 1,
   "metadata": {
    "collapsed": false
   },
   "outputs": [
    {
     "data": {
      "text/plain": [
       "(3, 12, 7, 4.0)"
      ]
     },
     "execution_count": 1,
     "metadata": {},
     "output_type": "execute_result"
    }
   ],
   "source": [
    "1+2, 3*4, 10-3, 8/2 "
   ]
  },
  {
   "cell_type": "markdown",
   "metadata": {},
   "source": [
    "The following illustrates the difference parentheses can make in the value of a calculation."
   ]
  },
  {
   "cell_type": "code",
   "execution_count": 2,
   "metadata": {
    "collapsed": false
   },
   "outputs": [
    {
     "data": {
      "text/plain": [
       "(23.25, 10.5)"
      ]
     },
     "execution_count": 2,
     "metadata": {},
     "output_type": "execute_result"
    }
   ],
   "source": [
    "3+4*5+1/4, (3+4)*((5+1)/4)"
   ]
  },
  {
   "cell_type": "markdown",
   "metadata": {},
   "source": [
    "We can also make and use variables.  A code variable is a little different than a variable that you talk about in a math class.  In a math class you might talk about the variables $x$ and $y$.  These could have values of any number between negative infinity and infinity in addition they may have an infinite number of values between any two other values. A computer has a hard time with that level of ambiguity.  In writing code we need to assign a specific value (or maybe a list of values) for each variable.  The code could change that value at a later time.  But at any given time each variable has a known assignment to a specific value."
   ]
  },
  {
   "cell_type": "code",
   "execution_count": 3,
   "metadata": {
    "collapsed": true
   },
   "outputs": [],
   "source": [
    "x=5"
   ]
  },
  {
   "cell_type": "code",
   "execution_count": 4,
   "metadata": {
    "collapsed": false
   },
   "outputs": [
    {
     "data": {
      "text/plain": [
       "7"
      ]
     },
     "execution_count": 4,
     "metadata": {},
     "output_type": "execute_result"
    }
   ],
   "source": [
    "x+2"
   ]
  },
  {
   "cell_type": "markdown",
   "metadata": {},
   "source": [
    "Please note that the '=' sign is not the same as mathematics either.  Here is is used as an assignment.\n",
    "```python\n",
    "x = 5\n",
    "```\n",
    "This makes x the same as 5. Also note that the order matters.  The left side should always be a single variable.  The following code doesn't work\n",
    "```python\n",
    "5 = x\n",
    "```\n",
    "Go ahead, try it and see.  It returns an error.  The other side though, the right hand side, can be more than just a value.  It can also be some mathematics that is evaluated.  Like so:"
   ]
  },
  {
   "cell_type": "code",
   "execution_count": 5,
   "metadata": {
    "collapsed": false
   },
   "outputs": [],
   "source": [
    "y=(x+4)/2"
   ]
  },
  {
   "cell_type": "markdown",
   "metadata": {},
   "source": [
    "This assigns the value of 2.5 to the variable y.  Can you figure out why? It might be nice to be able to see what value a variable has.  To do this use the print function like so:"
   ]
  },
  {
   "cell_type": "code",
   "execution_count": 6,
   "metadata": {
    "collapsed": false
   },
   "outputs": [
    {
     "name": "stdout",
     "output_type": "stream",
     "text": [
      "4.5\n"
     ]
    }
   ],
   "source": [
    "print(y)"
   ]
  },
  {
   "cell_type": "markdown",
   "metadata": {},
   "source": [
    "Or if your lazy just type y by itself:"
   ]
  },
  {
   "cell_type": "code",
   "execution_count": 7,
   "metadata": {
    "collapsed": false
   },
   "outputs": [
    {
     "data": {
      "text/plain": [
       "4.5"
      ]
     },
     "execution_count": 7,
     "metadata": {},
     "output_type": "execute_result"
    }
   ],
   "source": [
    "y"
   ]
  },
  {
   "cell_type": "markdown",
   "metadata": {},
   "source": [
    "A variable can be more than just a single character, it can be a word. Using a descriptive word to describe a variable is much more meaningful in a program.  Doing so makes it easer for you and others to read and understand what the code is doing.  For example if I want to calculate the volume of a room which of the following is clearest?"
   ]
  },
  {
   "cell_type": "code",
   "execution_count": 8,
   "metadata": {
    "collapsed": true
   },
   "outputs": [],
   "source": [
    "x=4\n",
    "y=2\n",
    "z=7\n",
    "v=x*y*z"
   ]
  },
  {
   "cell_type": "code",
   "execution_count": 9,
   "metadata": {
    "collapsed": true
   },
   "outputs": [],
   "source": [
    "depth=4\n",
    "width=2\n",
    "hight=7\n",
    "volume=depth*width*hight"
   ]
  },
  {
   "cell_type": "markdown",
   "metadata": {},
   "source": [
    "When choosing variable names make them descriptive.  This will make it easier for others in your group and for the professor or teachers assignment to help you.  It will also help you get a better grade."
   ]
  },
  {
   "cell_type": "markdown",
   "metadata": {},
   "source": [
    "### Data types\n",
    "<b>Numbers:</b> The computer treats the two numbers 4 and 4.0 differently.  The first is an integer or just int.  The second is called a floating point number or float.  The computer needs to allocate more memory for this type of number.  In fact it 'thinks' of the number 4.0 as this 4.000000000000000.  In most cases we will be using floating point numbers for our computations. \n",
    "\n",
    "<b>Strings:</b> Variables can also be assigned words and sentences.  These are called strings. For example:\n",
    "\n"
   ]
  },
  {
   "cell_type": "code",
   "execution_count": 10,
   "metadata": {
    "collapsed": true
   },
   "outputs": [],
   "source": [
    "FName=\"John\"\n",
    "LName=\"Doe\""
   ]
  },
  {
   "cell_type": "markdown",
   "metadata": {},
   "source": [
    "These can be used just like other variables."
   ]
  },
  {
   "cell_type": "code",
   "execution_count": 11,
   "metadata": {
    "collapsed": false
   },
   "outputs": [
    {
     "name": "stdout",
     "output_type": "stream",
     "text": [
      "John\n",
      "Doe\n"
     ]
    }
   ],
   "source": [
    "print(FName)\n",
    "print(LName)"
   ]
  },
  {
   "cell_type": "markdown",
   "metadata": {},
   "source": [
    "You can even combine strings with the '+' operator to make new larger strings:"
   ]
  },
  {
   "cell_type": "code",
   "execution_count": 12,
   "metadata": {
    "collapsed": false
   },
   "outputs": [
    {
     "name": "stdout",
     "output_type": "stream",
     "text": [
      "John Doe\n"
     ]
    }
   ],
   "source": [
    "print(FName + ' ' + LName)"
   ]
  },
  {
   "cell_type": "code",
   "execution_count": 13,
   "metadata": {
    "collapsed": false
   },
   "outputs": [
    {
     "name": "stdout",
     "output_type": "stream",
     "text": [
      "Doe, John\n"
     ]
    }
   ],
   "source": [
    "print(LName + ', ' + FName)"
   ]
  },
  {
   "cell_type": "markdown",
   "metadata": {},
   "source": [
    "There are other data types in python but these three (int, float, string) will be used most often in this class."
   ]
  },
  {
   "cell_type": "markdown",
   "metadata": {},
   "source": [
    "### Lists\n",
    "Variables can also have multiple values assigned to them at the same time. There are different ways of grouping these values together. We will first look at something called a list.  Later we will look at arrays.\n",
    "\n",
    "List are created using brackets [] like so:\n"
   ]
  },
  {
   "cell_type": "code",
   "execution_count": 14,
   "metadata": {
    "collapsed": false
   },
   "outputs": [],
   "source": [
    "L=[1.5,1.9,3.2,2.5,8.0]"
   ]
  },
  {
   "cell_type": "markdown",
   "metadata": {},
   "source": [
    "Here the variable L has all of the values in the list.  If we just want one of the values we can pick it out by using an index.  This index describes where in the list the number is.  In Python the first value in a list has the index of 0.  So to get the number 3.2 out of our list we would write:"
   ]
  },
  {
   "cell_type": "code",
   "execution_count": 15,
   "metadata": {
    "collapsed": false
   },
   "outputs": [
    {
     "data": {
      "text/plain": [
       "3.2"
      ]
     },
     "execution_count": 15,
     "metadata": {},
     "output_type": "execute_result"
    }
   ],
   "source": [
    "L[2]"
   ]
  },
  {
   "cell_type": "markdown",
   "metadata": {},
   "source": [
    "It is also possible to choose a subset in this list. This is done with ':'. like so:  "
   ]
  },
  {
   "cell_type": "code",
   "execution_count": 16,
   "metadata": {
    "collapsed": false
   },
   "outputs": [
    {
     "data": {
      "text/plain": [
       "[1.5, 1.9, 3.2]"
      ]
     },
     "execution_count": 16,
     "metadata": {},
     "output_type": "execute_result"
    }
   ],
   "source": [
    "L[0:3]"
   ]
  },
  {
   "cell_type": "markdown",
   "metadata": {},
   "source": [
    "Other things for you to try include \n",
    "```python\n",
    "L[:3]\n",
    "L[2:]\n",
    "L[1:3]\n",
    "```\n",
    "You can also use negative numbers.  See if you can figure out what these will do.\n",
    "```python\n",
    "L[-1:2]\n",
    "L[-3:1]\n",
    "```\n"
   ]
  },
  {
   "cell_type": "markdown",
   "metadata": {},
   "source": [
    "It is also easy to add another number to a list, or to combine lists.  This is done with the append function like so"
   ]
  },
  {
   "cell_type": "code",
   "execution_count": 17,
   "metadata": {
    "collapsed": false
   },
   "outputs": [
    {
     "name": "stdout",
     "output_type": "stream",
     "text": [
      "[1.5, 1.9, 3.2, 2.5, 8.0, 6.4]\n"
     ]
    }
   ],
   "source": [
    "L.append(6.4)\n",
    "print(L)"
   ]
  },
  {
   "cell_type": "markdown",
   "metadata": {},
   "source": [
    "To combine two list you can use the '+' operator. Or if you want to add a list to the end of another use the '+=' operator.  This is the same thing as writing \n",
    "```python\n",
    "L=L+[new List]\n",
    "```\n",
    "Note, this line makes no sense from a purely mathematical perspective.  But with Code it is just telling the computer to take the value of L add some new values.  Then take that and assign it to L, thus changing L."
   ]
  },
  {
   "cell_type": "code",
   "execution_count": 18,
   "metadata": {
    "collapsed": false
   },
   "outputs": [
    {
     "name": "stdout",
     "output_type": "stream",
     "text": [
      "[1.5, 1.9, 3.2, 2.5, 8.0, 6.4, 3.4, 6.9, 7.3]\n"
     ]
    }
   ],
   "source": [
    "L+=[3.4,6.9,7.3]\n",
    "\n",
    "print(L)"
   ]
  },
  {
   "cell_type": "markdown",
   "metadata": {},
   "source": [
    " You can easily fill a list with a set of values with the range function.  Like so."
   ]
  },
  {
   "cell_type": "code",
   "execution_count": 19,
   "metadata": {
    "collapsed": false
   },
   "outputs": [
    {
     "name": "stdout",
     "output_type": "stream",
     "text": [
      "[0, 1, 2, 3, 4, 5, 6, 7, 8, 9]\n"
     ]
    }
   ],
   "source": [
    "L_2=list(range(10))\n",
    "\n",
    "print(L_2)"
   ]
  },
  {
   "cell_type": "markdown",
   "metadata": {},
   "source": [
    "### Importing libraries\n",
    "In order to get additional functions you can import libraries into Python.  This is done with the import function or the magic operator.  A few libraries that we will use often are math, numpy, matplotlib.  Import these libraries like so:"
   ]
  },
  {
   "cell_type": "code",
   "execution_count": 20,
   "metadata": {
    "collapsed": true
   },
   "outputs": [],
   "source": [
    "import matplotlib.pyplot as plt\n",
    "import math\n",
    "import numpy as np"
   ]
  },
  {
   "cell_type": "markdown",
   "metadata": {},
   "source": [
    "The % symbol is used like import, but is called magic because it changes the way Jupiter operates not just Python.  To make plots work nicely inside Jupyter include the Magic function like so:"
   ]
  },
  {
   "cell_type": "code",
   "execution_count": 21,
   "metadata": {
    "collapsed": true
   },
   "outputs": [],
   "source": [
    "%matplotlib notebook"
   ]
  },
  {
   "cell_type": "markdown",
   "metadata": {},
   "source": [
    "A Google search for Python libraries or Jupyter magic will turn up many more available features you may be interested in."
   ]
  },
  {
   "cell_type": "markdown",
   "metadata": {},
   "source": [
    "### Ploting"
   ]
  },
  {
   "cell_type": "markdown",
   "metadata": {
    "collapsed": false
   },
   "source": [
    "There is a good plotting tutorial and example [here](http://matplotlib.org/1.5.1/users/pyplot_tutorial.html). Please take a look at it now and use it later when you need more advanced features when plotting.  For now we will look at a basic example.  Make sure the above import and magic lines are run before moving on.\n",
    "\n",
    "First we need a list of numbers for the x and y axis.  This is most easily done with the range command like so"
   ]
  },
  {
   "cell_type": "code",
   "execution_count": 22,
   "metadata": {
    "collapsed": false
   },
   "outputs": [
    {
     "data": {
      "text/plain": [
       "[0, 1, 2, 3, 4, 5, 6, 7, 8, 9]"
      ]
     },
     "execution_count": 22,
     "metadata": {},
     "output_type": "execute_result"
    }
   ],
   "source": [
    "x=list(range(10))\n",
    "x"
   ]
  },
  {
   "cell_type": "code",
   "execution_count": 23,
   "metadata": {
    "collapsed": false
   },
   "outputs": [
    {
     "data": {
      "text/plain": [
       "[5, 6, 7, 8, 9, 10, 11, 12, 13, 14]"
      ]
     },
     "execution_count": 23,
     "metadata": {},
     "output_type": "execute_result"
    }
   ],
   "source": [
    "y=list(range(5,15))\n",
    "y"
   ]
  },
  {
   "cell_type": "markdown",
   "metadata": {},
   "source": [
    "We can then plot them with a function from the matplotlib library like so:"
   ]
  },
  {
   "cell_type": "code",
   "execution_count": 24,
   "metadata": {
    "collapsed": false
   },
   "outputs": [
    {
     "data": {
      "application/javascript": [
       "/* Put everything inside the global mpl namespace */\n",
       "window.mpl = {};\n",
       "\n",
       "mpl.get_websocket_type = function() {\n",
       "    if (typeof(WebSocket) !== 'undefined') {\n",
       "        return WebSocket;\n",
       "    } else if (typeof(MozWebSocket) !== 'undefined') {\n",
       "        return MozWebSocket;\n",
       "    } else {\n",
       "        alert('Your browser does not have WebSocket support.' +\n",
       "              'Please try Chrome, Safari or Firefox ≥ 6. ' +\n",
       "              'Firefox 4 and 5 are also supported but you ' +\n",
       "              'have to enable WebSockets in about:config.');\n",
       "    };\n",
       "}\n",
       "\n",
       "mpl.figure = function(figure_id, websocket, ondownload, parent_element) {\n",
       "    this.id = figure_id;\n",
       "\n",
       "    this.ws = websocket;\n",
       "\n",
       "    this.supports_binary = (this.ws.binaryType != undefined);\n",
       "\n",
       "    if (!this.supports_binary) {\n",
       "        var warnings = document.getElementById(\"mpl-warnings\");\n",
       "        if (warnings) {\n",
       "            warnings.style.display = 'block';\n",
       "            warnings.textContent = (\n",
       "                \"This browser does not support binary websocket messages. \" +\n",
       "                    \"Performance may be slow.\");\n",
       "        }\n",
       "    }\n",
       "\n",
       "    this.imageObj = new Image();\n",
       "\n",
       "    this.context = undefined;\n",
       "    this.message = undefined;\n",
       "    this.canvas = undefined;\n",
       "    this.rubberband_canvas = undefined;\n",
       "    this.rubberband_context = undefined;\n",
       "    this.format_dropdown = undefined;\n",
       "\n",
       "    this.image_mode = 'full';\n",
       "\n",
       "    this.root = $('<div/>');\n",
       "    this._root_extra_style(this.root)\n",
       "    this.root.attr('style', 'display: inline-block');\n",
       "\n",
       "    $(parent_element).append(this.root);\n",
       "\n",
       "    this._init_header(this);\n",
       "    this._init_canvas(this);\n",
       "    this._init_toolbar(this);\n",
       "\n",
       "    var fig = this;\n",
       "\n",
       "    this.waiting = false;\n",
       "\n",
       "    this.ws.onopen =  function () {\n",
       "            fig.send_message(\"supports_binary\", {value: fig.supports_binary});\n",
       "            fig.send_message(\"send_image_mode\", {});\n",
       "            fig.send_message(\"refresh\", {});\n",
       "        }\n",
       "\n",
       "    this.imageObj.onload = function() {\n",
       "            if (fig.image_mode == 'full') {\n",
       "                // Full images could contain transparency (where diff images\n",
       "                // almost always do), so we need to clear the canvas so that\n",
       "                // there is no ghosting.\n",
       "                fig.context.clearRect(0, 0, fig.canvas.width, fig.canvas.height);\n",
       "            }\n",
       "            fig.context.drawImage(fig.imageObj, 0, 0);\n",
       "        };\n",
       "\n",
       "    this.imageObj.onunload = function() {\n",
       "        this.ws.close();\n",
       "    }\n",
       "\n",
       "    this.ws.onmessage = this._make_on_message_function(this);\n",
       "\n",
       "    this.ondownload = ondownload;\n",
       "}\n",
       "\n",
       "mpl.figure.prototype._init_header = function() {\n",
       "    var titlebar = $(\n",
       "        '<div class=\"ui-dialog-titlebar ui-widget-header ui-corner-all ' +\n",
       "        'ui-helper-clearfix\"/>');\n",
       "    var titletext = $(\n",
       "        '<div class=\"ui-dialog-title\" style=\"width: 100%; ' +\n",
       "        'text-align: center; padding: 3px;\"/>');\n",
       "    titlebar.append(titletext)\n",
       "    this.root.append(titlebar);\n",
       "    this.header = titletext[0];\n",
       "}\n",
       "\n",
       "\n",
       "\n",
       "mpl.figure.prototype._canvas_extra_style = function(canvas_div) {\n",
       "\n",
       "}\n",
       "\n",
       "\n",
       "mpl.figure.prototype._root_extra_style = function(canvas_div) {\n",
       "\n",
       "}\n",
       "\n",
       "mpl.figure.prototype._init_canvas = function() {\n",
       "    var fig = this;\n",
       "\n",
       "    var canvas_div = $('<div/>');\n",
       "\n",
       "    canvas_div.attr('style', 'position: relative; clear: both; outline: 0');\n",
       "\n",
       "    function canvas_keyboard_event(event) {\n",
       "        return fig.key_event(event, event['data']);\n",
       "    }\n",
       "\n",
       "    canvas_div.keydown('key_press', canvas_keyboard_event);\n",
       "    canvas_div.keyup('key_release', canvas_keyboard_event);\n",
       "    this.canvas_div = canvas_div\n",
       "    this._canvas_extra_style(canvas_div)\n",
       "    this.root.append(canvas_div);\n",
       "\n",
       "    var canvas = $('<canvas/>');\n",
       "    canvas.addClass('mpl-canvas');\n",
       "    canvas.attr('style', \"left: 0; top: 0; z-index: 0; outline: 0\")\n",
       "\n",
       "    this.canvas = canvas[0];\n",
       "    this.context = canvas[0].getContext(\"2d\");\n",
       "\n",
       "    var rubberband = $('<canvas/>');\n",
       "    rubberband.attr('style', \"position: absolute; left: 0; top: 0; z-index: 1;\")\n",
       "\n",
       "    var pass_mouse_events = true;\n",
       "\n",
       "    canvas_div.resizable({\n",
       "        start: function(event, ui) {\n",
       "            pass_mouse_events = false;\n",
       "        },\n",
       "        resize: function(event, ui) {\n",
       "            fig.request_resize(ui.size.width, ui.size.height);\n",
       "        },\n",
       "        stop: function(event, ui) {\n",
       "            pass_mouse_events = true;\n",
       "            fig.request_resize(ui.size.width, ui.size.height);\n",
       "        },\n",
       "    });\n",
       "\n",
       "    function mouse_event_fn(event) {\n",
       "        if (pass_mouse_events)\n",
       "            return fig.mouse_event(event, event['data']);\n",
       "    }\n",
       "\n",
       "    rubberband.mousedown('button_press', mouse_event_fn);\n",
       "    rubberband.mouseup('button_release', mouse_event_fn);\n",
       "    // Throttle sequential mouse events to 1 every 20ms.\n",
       "    rubberband.mousemove('motion_notify', mouse_event_fn);\n",
       "\n",
       "    rubberband.mouseenter('figure_enter', mouse_event_fn);\n",
       "    rubberband.mouseleave('figure_leave', mouse_event_fn);\n",
       "\n",
       "    canvas_div.on(\"wheel\", function (event) {\n",
       "        event = event.originalEvent;\n",
       "        event['data'] = 'scroll'\n",
       "        if (event.deltaY < 0) {\n",
       "            event.step = 1;\n",
       "        } else {\n",
       "            event.step = -1;\n",
       "        }\n",
       "        mouse_event_fn(event);\n",
       "    });\n",
       "\n",
       "    canvas_div.append(canvas);\n",
       "    canvas_div.append(rubberband);\n",
       "\n",
       "    this.rubberband = rubberband;\n",
       "    this.rubberband_canvas = rubberband[0];\n",
       "    this.rubberband_context = rubberband[0].getContext(\"2d\");\n",
       "    this.rubberband_context.strokeStyle = \"#000000\";\n",
       "\n",
       "    this._resize_canvas = function(width, height) {\n",
       "        // Keep the size of the canvas, canvas container, and rubber band\n",
       "        // canvas in synch.\n",
       "        canvas_div.css('width', width)\n",
       "        canvas_div.css('height', height)\n",
       "\n",
       "        canvas.attr('width', width);\n",
       "        canvas.attr('height', height);\n",
       "\n",
       "        rubberband.attr('width', width);\n",
       "        rubberband.attr('height', height);\n",
       "    }\n",
       "\n",
       "    // Set the figure to an initial 600x600px, this will subsequently be updated\n",
       "    // upon first draw.\n",
       "    this._resize_canvas(600, 600);\n",
       "\n",
       "    // Disable right mouse context menu.\n",
       "    $(this.rubberband_canvas).bind(\"contextmenu\",function(e){\n",
       "        return false;\n",
       "    });\n",
       "\n",
       "    function set_focus () {\n",
       "        canvas.focus();\n",
       "        canvas_div.focus();\n",
       "    }\n",
       "\n",
       "    window.setTimeout(set_focus, 100);\n",
       "}\n",
       "\n",
       "mpl.figure.prototype._init_toolbar = function() {\n",
       "    var fig = this;\n",
       "\n",
       "    var nav_element = $('<div/>')\n",
       "    nav_element.attr('style', 'width: 100%');\n",
       "    this.root.append(nav_element);\n",
       "\n",
       "    // Define a callback function for later on.\n",
       "    function toolbar_event(event) {\n",
       "        return fig.toolbar_button_onclick(event['data']);\n",
       "    }\n",
       "    function toolbar_mouse_event(event) {\n",
       "        return fig.toolbar_button_onmouseover(event['data']);\n",
       "    }\n",
       "\n",
       "    for(var toolbar_ind in mpl.toolbar_items) {\n",
       "        var name = mpl.toolbar_items[toolbar_ind][0];\n",
       "        var tooltip = mpl.toolbar_items[toolbar_ind][1];\n",
       "        var image = mpl.toolbar_items[toolbar_ind][2];\n",
       "        var method_name = mpl.toolbar_items[toolbar_ind][3];\n",
       "\n",
       "        if (!name) {\n",
       "            // put a spacer in here.\n",
       "            continue;\n",
       "        }\n",
       "        var button = $('<button/>');\n",
       "        button.addClass('ui-button ui-widget ui-state-default ui-corner-all ' +\n",
       "                        'ui-button-icon-only');\n",
       "        button.attr('role', 'button');\n",
       "        button.attr('aria-disabled', 'false');\n",
       "        button.click(method_name, toolbar_event);\n",
       "        button.mouseover(tooltip, toolbar_mouse_event);\n",
       "\n",
       "        var icon_img = $('<span/>');\n",
       "        icon_img.addClass('ui-button-icon-primary ui-icon');\n",
       "        icon_img.addClass(image);\n",
       "        icon_img.addClass('ui-corner-all');\n",
       "\n",
       "        var tooltip_span = $('<span/>');\n",
       "        tooltip_span.addClass('ui-button-text');\n",
       "        tooltip_span.html(tooltip);\n",
       "\n",
       "        button.append(icon_img);\n",
       "        button.append(tooltip_span);\n",
       "\n",
       "        nav_element.append(button);\n",
       "    }\n",
       "\n",
       "    var fmt_picker_span = $('<span/>');\n",
       "\n",
       "    var fmt_picker = $('<select/>');\n",
       "    fmt_picker.addClass('mpl-toolbar-option ui-widget ui-widget-content');\n",
       "    fmt_picker_span.append(fmt_picker);\n",
       "    nav_element.append(fmt_picker_span);\n",
       "    this.format_dropdown = fmt_picker[0];\n",
       "\n",
       "    for (var ind in mpl.extensions) {\n",
       "        var fmt = mpl.extensions[ind];\n",
       "        var option = $(\n",
       "            '<option/>', {selected: fmt === mpl.default_extension}).html(fmt);\n",
       "        fmt_picker.append(option)\n",
       "    }\n",
       "\n",
       "    // Add hover states to the ui-buttons\n",
       "    $( \".ui-button\" ).hover(\n",
       "        function() { $(this).addClass(\"ui-state-hover\");},\n",
       "        function() { $(this).removeClass(\"ui-state-hover\");}\n",
       "    );\n",
       "\n",
       "    var status_bar = $('<span class=\"mpl-message\"/>');\n",
       "    nav_element.append(status_bar);\n",
       "    this.message = status_bar[0];\n",
       "}\n",
       "\n",
       "mpl.figure.prototype.request_resize = function(x_pixels, y_pixels) {\n",
       "    // Request matplotlib to resize the figure. Matplotlib will then trigger a resize in the client,\n",
       "    // which will in turn request a refresh of the image.\n",
       "    this.send_message('resize', {'width': x_pixels, 'height': y_pixels});\n",
       "}\n",
       "\n",
       "mpl.figure.prototype.send_message = function(type, properties) {\n",
       "    properties['type'] = type;\n",
       "    properties['figure_id'] = this.id;\n",
       "    this.ws.send(JSON.stringify(properties));\n",
       "}\n",
       "\n",
       "mpl.figure.prototype.send_draw_message = function() {\n",
       "    if (!this.waiting) {\n",
       "        this.waiting = true;\n",
       "        this.ws.send(JSON.stringify({type: \"draw\", figure_id: this.id}));\n",
       "    }\n",
       "}\n",
       "\n",
       "\n",
       "mpl.figure.prototype.handle_save = function(fig, msg) {\n",
       "    var format_dropdown = fig.format_dropdown;\n",
       "    var format = format_dropdown.options[format_dropdown.selectedIndex].value;\n",
       "    fig.ondownload(fig, format);\n",
       "}\n",
       "\n",
       "\n",
       "mpl.figure.prototype.handle_resize = function(fig, msg) {\n",
       "    var size = msg['size'];\n",
       "    if (size[0] != fig.canvas.width || size[1] != fig.canvas.height) {\n",
       "        fig._resize_canvas(size[0], size[1]);\n",
       "        fig.send_message(\"refresh\", {});\n",
       "    };\n",
       "}\n",
       "\n",
       "mpl.figure.prototype.handle_rubberband = function(fig, msg) {\n",
       "    var x0 = msg['x0'];\n",
       "    var y0 = fig.canvas.height - msg['y0'];\n",
       "    var x1 = msg['x1'];\n",
       "    var y1 = fig.canvas.height - msg['y1'];\n",
       "    x0 = Math.floor(x0) + 0.5;\n",
       "    y0 = Math.floor(y0) + 0.5;\n",
       "    x1 = Math.floor(x1) + 0.5;\n",
       "    y1 = Math.floor(y1) + 0.5;\n",
       "    var min_x = Math.min(x0, x1);\n",
       "    var min_y = Math.min(y0, y1);\n",
       "    var width = Math.abs(x1 - x0);\n",
       "    var height = Math.abs(y1 - y0);\n",
       "\n",
       "    fig.rubberband_context.clearRect(\n",
       "        0, 0, fig.canvas.width, fig.canvas.height);\n",
       "\n",
       "    fig.rubberband_context.strokeRect(min_x, min_y, width, height);\n",
       "}\n",
       "\n",
       "mpl.figure.prototype.handle_figure_label = function(fig, msg) {\n",
       "    // Updates the figure title.\n",
       "    fig.header.textContent = msg['label'];\n",
       "}\n",
       "\n",
       "mpl.figure.prototype.handle_cursor = function(fig, msg) {\n",
       "    var cursor = msg['cursor'];\n",
       "    switch(cursor)\n",
       "    {\n",
       "    case 0:\n",
       "        cursor = 'pointer';\n",
       "        break;\n",
       "    case 1:\n",
       "        cursor = 'default';\n",
       "        break;\n",
       "    case 2:\n",
       "        cursor = 'crosshair';\n",
       "        break;\n",
       "    case 3:\n",
       "        cursor = 'move';\n",
       "        break;\n",
       "    }\n",
       "    fig.rubberband_canvas.style.cursor = cursor;\n",
       "}\n",
       "\n",
       "mpl.figure.prototype.handle_message = function(fig, msg) {\n",
       "    fig.message.textContent = msg['message'];\n",
       "}\n",
       "\n",
       "mpl.figure.prototype.handle_draw = function(fig, msg) {\n",
       "    // Request the server to send over a new figure.\n",
       "    fig.send_draw_message();\n",
       "}\n",
       "\n",
       "mpl.figure.prototype.handle_image_mode = function(fig, msg) {\n",
       "    fig.image_mode = msg['mode'];\n",
       "}\n",
       "\n",
       "mpl.figure.prototype.updated_canvas_event = function() {\n",
       "    // Called whenever the canvas gets updated.\n",
       "    this.send_message(\"ack\", {});\n",
       "}\n",
       "\n",
       "// A function to construct a web socket function for onmessage handling.\n",
       "// Called in the figure constructor.\n",
       "mpl.figure.prototype._make_on_message_function = function(fig) {\n",
       "    return function socket_on_message(evt) {\n",
       "        if (evt.data instanceof Blob) {\n",
       "            /* FIXME: We get \"Resource interpreted as Image but\n",
       "             * transferred with MIME type text/plain:\" errors on\n",
       "             * Chrome.  But how to set the MIME type?  It doesn't seem\n",
       "             * to be part of the websocket stream */\n",
       "            evt.data.type = \"image/png\";\n",
       "\n",
       "            /* Free the memory for the previous frames */\n",
       "            if (fig.imageObj.src) {\n",
       "                (window.URL || window.webkitURL).revokeObjectURL(\n",
       "                    fig.imageObj.src);\n",
       "            }\n",
       "\n",
       "            fig.imageObj.src = (window.URL || window.webkitURL).createObjectURL(\n",
       "                evt.data);\n",
       "            fig.updated_canvas_event();\n",
       "            fig.waiting = false;\n",
       "            return;\n",
       "        }\n",
       "        else if (typeof evt.data === 'string' && evt.data.slice(0, 21) == \"data:image/png;base64\") {\n",
       "            fig.imageObj.src = evt.data;\n",
       "            fig.updated_canvas_event();\n",
       "            fig.waiting = false;\n",
       "            return;\n",
       "        }\n",
       "\n",
       "        var msg = JSON.parse(evt.data);\n",
       "        var msg_type = msg['type'];\n",
       "\n",
       "        // Call the  \"handle_{type}\" callback, which takes\n",
       "        // the figure and JSON message as its only arguments.\n",
       "        try {\n",
       "            var callback = fig[\"handle_\" + msg_type];\n",
       "        } catch (e) {\n",
       "            console.log(\"No handler for the '\" + msg_type + \"' message type: \", msg);\n",
       "            return;\n",
       "        }\n",
       "\n",
       "        if (callback) {\n",
       "            try {\n",
       "                // console.log(\"Handling '\" + msg_type + \"' message: \", msg);\n",
       "                callback(fig, msg);\n",
       "            } catch (e) {\n",
       "                console.log(\"Exception inside the 'handler_\" + msg_type + \"' callback:\", e, e.stack, msg);\n",
       "            }\n",
       "        }\n",
       "    };\n",
       "}\n",
       "\n",
       "// from http://stackoverflow.com/questions/1114465/getting-mouse-location-in-canvas\n",
       "mpl.findpos = function(e) {\n",
       "    //this section is from http://www.quirksmode.org/js/events_properties.html\n",
       "    var targ;\n",
       "    if (!e)\n",
       "        e = window.event;\n",
       "    if (e.target)\n",
       "        targ = e.target;\n",
       "    else if (e.srcElement)\n",
       "        targ = e.srcElement;\n",
       "    if (targ.nodeType == 3) // defeat Safari bug\n",
       "        targ = targ.parentNode;\n",
       "\n",
       "    // jQuery normalizes the pageX and pageY\n",
       "    // pageX,Y are the mouse positions relative to the document\n",
       "    // offset() returns the position of the element relative to the document\n",
       "    var x = e.pageX - $(targ).offset().left;\n",
       "    var y = e.pageY - $(targ).offset().top;\n",
       "\n",
       "    return {\"x\": x, \"y\": y};\n",
       "};\n",
       "\n",
       "/*\n",
       " * return a copy of an object with only non-object keys\n",
       " * we need this to avoid circular references\n",
       " * http://stackoverflow.com/a/24161582/3208463\n",
       " */\n",
       "function simpleKeys (original) {\n",
       "  return Object.keys(original).reduce(function (obj, key) {\n",
       "    if (typeof original[key] !== 'object')\n",
       "        obj[key] = original[key]\n",
       "    return obj;\n",
       "  }, {});\n",
       "}\n",
       "\n",
       "mpl.figure.prototype.mouse_event = function(event, name) {\n",
       "    var canvas_pos = mpl.findpos(event)\n",
       "\n",
       "    if (name === 'button_press')\n",
       "    {\n",
       "        this.canvas.focus();\n",
       "        this.canvas_div.focus();\n",
       "    }\n",
       "\n",
       "    var x = canvas_pos.x;\n",
       "    var y = canvas_pos.y;\n",
       "\n",
       "    this.send_message(name, {x: x, y: y, button: event.button,\n",
       "                             step: event.step,\n",
       "                             guiEvent: simpleKeys(event)});\n",
       "\n",
       "    /* This prevents the web browser from automatically changing to\n",
       "     * the text insertion cursor when the button is pressed.  We want\n",
       "     * to control all of the cursor setting manually through the\n",
       "     * 'cursor' event from matplotlib */\n",
       "    event.preventDefault();\n",
       "    return false;\n",
       "}\n",
       "\n",
       "mpl.figure.prototype._key_event_extra = function(event, name) {\n",
       "    // Handle any extra behaviour associated with a key event\n",
       "}\n",
       "\n",
       "mpl.figure.prototype.key_event = function(event, name) {\n",
       "\n",
       "    // Prevent repeat events\n",
       "    if (name == 'key_press')\n",
       "    {\n",
       "        if (event.which === this._key)\n",
       "            return;\n",
       "        else\n",
       "            this._key = event.which;\n",
       "    }\n",
       "    if (name == 'key_release')\n",
       "        this._key = null;\n",
       "\n",
       "    var value = '';\n",
       "    if (event.ctrlKey && event.which != 17)\n",
       "        value += \"ctrl+\";\n",
       "    if (event.altKey && event.which != 18)\n",
       "        value += \"alt+\";\n",
       "    if (event.shiftKey && event.which != 16)\n",
       "        value += \"shift+\";\n",
       "\n",
       "    value += 'k';\n",
       "    value += event.which.toString();\n",
       "\n",
       "    this._key_event_extra(event, name);\n",
       "\n",
       "    this.send_message(name, {key: value,\n",
       "                             guiEvent: simpleKeys(event)});\n",
       "    return false;\n",
       "}\n",
       "\n",
       "mpl.figure.prototype.toolbar_button_onclick = function(name) {\n",
       "    if (name == 'download') {\n",
       "        this.handle_save(this, null);\n",
       "    } else {\n",
       "        this.send_message(\"toolbar_button\", {name: name});\n",
       "    }\n",
       "};\n",
       "\n",
       "mpl.figure.prototype.toolbar_button_onmouseover = function(tooltip) {\n",
       "    this.message.textContent = tooltip;\n",
       "};\n",
       "mpl.toolbar_items = [[\"Home\", \"Reset original view\", \"fa fa-home icon-home\", \"home\"], [\"Back\", \"Back to  previous view\", \"fa fa-arrow-left icon-arrow-left\", \"back\"], [\"Forward\", \"Forward to next view\", \"fa fa-arrow-right icon-arrow-right\", \"forward\"], [\"\", \"\", \"\", \"\"], [\"Pan\", \"Pan axes with left mouse, zoom with right\", \"fa fa-arrows icon-move\", \"pan\"], [\"Zoom\", \"Zoom to rectangle\", \"fa fa-square-o icon-check-empty\", \"zoom\"], [\"\", \"\", \"\", \"\"], [\"Download\", \"Download plot\", \"fa fa-floppy-o icon-save\", \"download\"]];\n",
       "\n",
       "mpl.extensions = [\"eps\", \"jpeg\", \"pdf\", \"png\", \"ps\", \"raw\", \"svg\", \"tif\"];\n",
       "\n",
       "mpl.default_extension = \"png\";var comm_websocket_adapter = function(comm) {\n",
       "    // Create a \"websocket\"-like object which calls the given IPython comm\n",
       "    // object with the appropriate methods. Currently this is a non binary\n",
       "    // socket, so there is still some room for performance tuning.\n",
       "    var ws = {};\n",
       "\n",
       "    ws.close = function() {\n",
       "        comm.close()\n",
       "    };\n",
       "    ws.send = function(m) {\n",
       "        //console.log('sending', m);\n",
       "        comm.send(m);\n",
       "    };\n",
       "    // Register the callback with on_msg.\n",
       "    comm.on_msg(function(msg) {\n",
       "        //console.log('receiving', msg['content']['data'], msg);\n",
       "        // Pass the mpl event to the overriden (by mpl) onmessage function.\n",
       "        ws.onmessage(msg['content']['data'])\n",
       "    });\n",
       "    return ws;\n",
       "}\n",
       "\n",
       "mpl.mpl_figure_comm = function(comm, msg) {\n",
       "    // This is the function which gets called when the mpl process\n",
       "    // starts-up an IPython Comm through the \"matplotlib\" channel.\n",
       "\n",
       "    var id = msg.content.data.id;\n",
       "    // Get hold of the div created by the display call when the Comm\n",
       "    // socket was opened in Python.\n",
       "    var element = $(\"#\" + id);\n",
       "    var ws_proxy = comm_websocket_adapter(comm)\n",
       "\n",
       "    function ondownload(figure, format) {\n",
       "        window.open(figure.imageObj.src);\n",
       "    }\n",
       "\n",
       "    var fig = new mpl.figure(id, ws_proxy,\n",
       "                           ondownload,\n",
       "                           element.get(0));\n",
       "\n",
       "    // Call onopen now - mpl needs it, as it is assuming we've passed it a real\n",
       "    // web socket which is closed, not our websocket->open comm proxy.\n",
       "    ws_proxy.onopen();\n",
       "\n",
       "    fig.parent_element = element.get(0);\n",
       "    fig.cell_info = mpl.find_output_cell(\"<div id='\" + id + \"'></div>\");\n",
       "    if (!fig.cell_info) {\n",
       "        console.error(\"Failed to find cell for figure\", id, fig);\n",
       "        return;\n",
       "    }\n",
       "\n",
       "    var output_index = fig.cell_info[2]\n",
       "    var cell = fig.cell_info[0];\n",
       "\n",
       "};\n",
       "\n",
       "mpl.figure.prototype.handle_close = function(fig, msg) {\n",
       "    fig.root.unbind('remove')\n",
       "\n",
       "    // Update the output cell to use the data from the current canvas.\n",
       "    fig.push_to_output();\n",
       "    var dataURL = fig.canvas.toDataURL();\n",
       "    // Re-enable the keyboard manager in IPython - without this line, in FF,\n",
       "    // the notebook keyboard shortcuts fail.\n",
       "    IPython.keyboard_manager.enable()\n",
       "    $(fig.parent_element).html('<img src=\"' + dataURL + '\">');\n",
       "    fig.close_ws(fig, msg);\n",
       "}\n",
       "\n",
       "mpl.figure.prototype.close_ws = function(fig, msg){\n",
       "    fig.send_message('closing', msg);\n",
       "    // fig.ws.close()\n",
       "}\n",
       "\n",
       "mpl.figure.prototype.push_to_output = function(remove_interactive) {\n",
       "    // Turn the data on the canvas into data in the output cell.\n",
       "    var dataURL = this.canvas.toDataURL();\n",
       "    this.cell_info[1]['text/html'] = '<img src=\"' + dataURL + '\">';\n",
       "}\n",
       "\n",
       "mpl.figure.prototype.updated_canvas_event = function() {\n",
       "    // Tell IPython that the notebook contents must change.\n",
       "    IPython.notebook.set_dirty(true);\n",
       "    this.send_message(\"ack\", {});\n",
       "    var fig = this;\n",
       "    // Wait a second, then push the new image to the DOM so\n",
       "    // that it is saved nicely (might be nice to debounce this).\n",
       "    setTimeout(function () { fig.push_to_output() }, 1000);\n",
       "}\n",
       "\n",
       "mpl.figure.prototype._init_toolbar = function() {\n",
       "    var fig = this;\n",
       "\n",
       "    var nav_element = $('<div/>')\n",
       "    nav_element.attr('style', 'width: 100%');\n",
       "    this.root.append(nav_element);\n",
       "\n",
       "    // Define a callback function for later on.\n",
       "    function toolbar_event(event) {\n",
       "        return fig.toolbar_button_onclick(event['data']);\n",
       "    }\n",
       "    function toolbar_mouse_event(event) {\n",
       "        return fig.toolbar_button_onmouseover(event['data']);\n",
       "    }\n",
       "\n",
       "    for(var toolbar_ind in mpl.toolbar_items){\n",
       "        var name = mpl.toolbar_items[toolbar_ind][0];\n",
       "        var tooltip = mpl.toolbar_items[toolbar_ind][1];\n",
       "        var image = mpl.toolbar_items[toolbar_ind][2];\n",
       "        var method_name = mpl.toolbar_items[toolbar_ind][3];\n",
       "\n",
       "        if (!name) { continue; };\n",
       "\n",
       "        var button = $('<button class=\"btn btn-default\" href=\"#\" title=\"' + name + '\"><i class=\"fa ' + image + ' fa-lg\"></i></button>');\n",
       "        button.click(method_name, toolbar_event);\n",
       "        button.mouseover(tooltip, toolbar_mouse_event);\n",
       "        nav_element.append(button);\n",
       "    }\n",
       "\n",
       "    // Add the status bar.\n",
       "    var status_bar = $('<span class=\"mpl-message\" style=\"text-align:right; float: right;\"/>');\n",
       "    nav_element.append(status_bar);\n",
       "    this.message = status_bar[0];\n",
       "\n",
       "    // Add the close button to the window.\n",
       "    var buttongrp = $('<div class=\"btn-group inline pull-right\"></div>');\n",
       "    var button = $('<button class=\"btn btn-mini btn-primary\" href=\"#\" title=\"Stop Interaction\"><i class=\"fa fa-power-off icon-remove icon-large\"></i></button>');\n",
       "    button.click(function (evt) { fig.handle_close(fig, {}); } );\n",
       "    button.mouseover('Stop Interaction', toolbar_mouse_event);\n",
       "    buttongrp.append(button);\n",
       "    var titlebar = this.root.find($('.ui-dialog-titlebar'));\n",
       "    titlebar.prepend(buttongrp);\n",
       "}\n",
       "\n",
       "mpl.figure.prototype._root_extra_style = function(el){\n",
       "    var fig = this\n",
       "    el.on(\"remove\", function(){\n",
       "\tfig.close_ws(fig, {});\n",
       "    });\n",
       "}\n",
       "\n",
       "mpl.figure.prototype._canvas_extra_style = function(el){\n",
       "    // this is important to make the div 'focusable\n",
       "    el.attr('tabindex', 0)\n",
       "    // reach out to IPython and tell the keyboard manager to turn it's self\n",
       "    // off when our div gets focus\n",
       "\n",
       "    // location in version 3\n",
       "    if (IPython.notebook.keyboard_manager) {\n",
       "        IPython.notebook.keyboard_manager.register_events(el);\n",
       "    }\n",
       "    else {\n",
       "        // location in version 2\n",
       "        IPython.keyboard_manager.register_events(el);\n",
       "    }\n",
       "\n",
       "}\n",
       "\n",
       "mpl.figure.prototype._key_event_extra = function(event, name) {\n",
       "    var manager = IPython.notebook.keyboard_manager;\n",
       "    if (!manager)\n",
       "        manager = IPython.keyboard_manager;\n",
       "\n",
       "    // Check for shift+enter\n",
       "    if (event.shiftKey && event.which == 13) {\n",
       "        this.canvas_div.blur();\n",
       "        event.shiftKey = false;\n",
       "        // Send a \"J\" for go to next cell\n",
       "        event.which = 74;\n",
       "        event.keyCode = 74;\n",
       "        manager.command_mode();\n",
       "        manager.handle_keydown(event);\n",
       "    }\n",
       "}\n",
       "\n",
       "mpl.figure.prototype.handle_save = function(fig, msg) {\n",
       "    fig.ondownload(fig, null);\n",
       "}\n",
       "\n",
       "\n",
       "mpl.find_output_cell = function(html_output) {\n",
       "    // Return the cell and output element which can be found *uniquely* in the notebook.\n",
       "    // Note - this is a bit hacky, but it is done because the \"notebook_saving.Notebook\"\n",
       "    // IPython event is triggered only after the cells have been serialised, which for\n",
       "    // our purposes (turning an active figure into a static one), is too late.\n",
       "    var cells = IPython.notebook.get_cells();\n",
       "    var ncells = cells.length;\n",
       "    for (var i=0; i<ncells; i++) {\n",
       "        var cell = cells[i];\n",
       "        if (cell.cell_type === 'code'){\n",
       "            for (var j=0; j<cell.output_area.outputs.length; j++) {\n",
       "                var data = cell.output_area.outputs[j];\n",
       "                if (data.data) {\n",
       "                    // IPython >= 3 moved mimebundle to data attribute of output\n",
       "                    data = data.data;\n",
       "                }\n",
       "                if (data['text/html'] == html_output) {\n",
       "                    return [cell, data, j];\n",
       "                }\n",
       "            }\n",
       "        }\n",
       "    }\n",
       "}\n",
       "\n",
       "// Register the function which deals with the matplotlib target/channel.\n",
       "// The kernel may be null if the page has been refreshed.\n",
       "if (IPython.notebook.kernel != null) {\n",
       "    IPython.notebook.kernel.comm_manager.register_target('matplotlib', mpl.mpl_figure_comm);\n",
       "}\n"
      ],
      "text/plain": [
       "<IPython.core.display.Javascript object>"
      ]
     },
     "metadata": {},
     "output_type": "display_data"
    },
    {
     "data": {
      "text/html": [
       "<img src=\"data:image/png;base64,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\">"
      ],
      "text/plain": [
       "<IPython.core.display.HTML object>"
      ]
     },
     "metadata": {},
     "output_type": "display_data"
    },
    {
     "data": {
      "text/plain": [
       "[<matplotlib.lines.Line2D at 0x213c7e0f828>]"
      ]
     },
     "execution_count": 24,
     "metadata": {},
     "output_type": "execute_result"
    }
   ],
   "source": [
    "plt.plot(x, y)"
   ]
  },
  {
   "cell_type": "markdown",
   "metadata": {},
   "source": [
    "You may notice if you try to any any mathematics on the list x to get y it may not do what you expect.  This is primarily because of the way lists are structured.  This is easier done with arrays in the numpy library. We will look at this next time.\n",
    "\n",
    "<b><span style=\"color:red;\">Your Assignment:</span></b>\n",
    "Take a look at the above and create a Jupyter document with markdown cells and code cells that include at least the following:\n",
    "- use the basic calculator features in a python code cell\n",
    "- define some variables.  Make them meaningful to you and perform a calculation with them.\n",
    "- Make a list with at least 10 numbers in it.  The use ':' to pull out a subset of that list.  Try negative numbers and describe what they do in this context.\n",
    "- import the necessary libraries to make a plot\n",
    "- create a simple plot\n",
    "\n",
    "The text surrounding the above should be readable and express a narrative.\n"
   ]
  },
  {
   "cell_type": "markdown",
   "metadata": {
    "collapsed": true
   },
   "source": [
    "# Other\n",
    "Other things I've installed include [nbextensions](https://github.com/ipython-contrib/IPython-notebook-extensions/).  This alows a number of other features in Jupyter includeing an index, spell checker and many other features that can be turned on or off.  To install these in windows using the Anaconda pachage installer go to the command line and copy and past the following to the command line:\n",
    "\n",
    "conda install -c conda-forge jupyter_nbextensions_configurator\n",
    "\n",
    "Also\n",
    "\n",
    "pip install https://github.com/ipython-contrib/IPython-notebook-extensions/tarball/master\n",
    "\n",
    "Then in a Python code cell copy, past and run the following:"
   ]
  },
  {
   "cell_type": "code",
   "execution_count": 25,
   "metadata": {
    "collapsed": false
   },
   "outputs": [
    {
     "data": {
      "application/javascript": [
       "Jupyter.notebook.config.update({\"load_extensions\":{\"calico-spell-check\":true,\n",
       "                                                  \"calico-document-tools\":true,\n",
       "                                                  \"calico-cell-tools\":true}})"
      ],
      "text/plain": [
       "<IPython.core.display.Javascript object>"
      ]
     },
     "metadata": {},
     "output_type": "display_data"
    }
   ],
   "source": [
    "%%javascript\n",
    "Jupyter.notebook.config.update({\"load_extensions\":{\"calico-spell-check\":true,\n",
    "                                                  \"calico-document-tools\":true,\n",
    "                                                  \"calico-cell-tools\":true}})"
   ]
  }
 ],
 "metadata": {
  "anaconda-cloud": {},
  "hide_input": false,
  "kernelspec": {
   "display_name": "Python [Root]",
   "language": "python",
   "name": "Python [Root]"
  },
  "language_info": {
   "codemirror_mode": {
    "name": "ipython",
    "version": 3
   },
   "file_extension": ".py",
   "mimetype": "text/x-python",
   "name": "python",
   "nbconvert_exporter": "python",
   "pygments_lexer": "ipython3",
   "version": "3.5.2"
  },
  "nav_menu": {},
  "toc": {
   "navigate_menu": true,
   "number_sections": true,
   "sideBar": true,
   "threshold": 6,
   "toc_cell": true,
   "toc_section_display": "block",
   "toc_window_display": true
  },
  "toc_position": {
   "height": "783px",
   "left": "0px",
   "right": "1068px",
   "top": "107px",
   "width": "212px"
  }
 },
 "nbformat": 4,
 "nbformat_minor": 0
}
