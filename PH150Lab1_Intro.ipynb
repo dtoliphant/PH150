{
 "cells": [
  {
   "cell_type": "markdown",
   "metadata": {
    "toc": "true"
   },
   "source": [
    "# Table of Contents\n",
    " <p><div class=\"lev1 toc-item\"><a data-toc-modified-id=\"Physics-150-Week-1-1\" href=\"#Physics-150-Week-1\"><span class=\"toc-item-num\">1&nbsp;&nbsp;</span>Physics 150 Week 1</a></div><div class=\"lev2 toc-item\"><a data-toc-modified-id=\"Jupyter-Introduction-1.1\" href=\"#Jupyter-Introduction\"><span class=\"toc-item-num\">1.1&nbsp;&nbsp;</span>Jupyter Introduction</a></div><div class=\"lev2 toc-item\"><a data-toc-modified-id=\"Python-Introduction-1.2\" href=\"#Python-Introduction\"><span class=\"toc-item-num\">1.2&nbsp;&nbsp;</span>Python Introduction</a></div><div class=\"lev3 toc-item\"><a data-toc-modified-id=\"Calculator-/-variables-1.2.1\" href=\"#Calculator-/-variables\"><span class=\"toc-item-num\">1.2.1&nbsp;&nbsp;</span>Calculator / variables</a></div><div class=\"lev3 toc-item\"><a data-toc-modified-id=\"Data-types-1.2.2\" href=\"#Data-types\"><span class=\"toc-item-num\">1.2.2&nbsp;&nbsp;</span>Data types</a></div><div class=\"lev3 toc-item\"><a data-toc-modified-id=\"Lists-1.2.3\" href=\"#Lists\"><span class=\"toc-item-num\">1.2.3&nbsp;&nbsp;</span>Lists</a></div><div class=\"lev3 toc-item\"><a data-toc-modified-id=\"Importing-libraries-1.2.4\" href=\"#Importing-libraries\"><span class=\"toc-item-num\">1.2.4&nbsp;&nbsp;</span>Importing libraries</a></div><div class=\"lev3 toc-item\"><a data-toc-modified-id=\"Ploting-1.2.5\" href=\"#Ploting\"><span class=\"toc-item-num\">1.2.5&nbsp;&nbsp;</span>Ploting</a></div><div class=\"lev1 toc-item\"><a data-toc-modified-id=\"Other-2\" href=\"#Other\"><span class=\"toc-item-num\">2&nbsp;&nbsp;</span>Other</a></div>"
   ]
  },
  {
   "cell_type": "markdown",
   "metadata": {},
   "source": [
    "# Physics 150 Week 1 "
   ]
  },
  {
   "cell_type": "markdown",
   "metadata": {},
   "source": [
    "This semester you will learn about how to model a physical system as computer code.  You will also learn the basics of error analysis. The things we will study could be applied to many physical systems, but for this class we will focus on modeling projectile motion.  The programing language we will use is called Python.  Python is a great first language, and once you learn one language you will find it is much easier to learn others.\n",
    "\n",
    "As part of learning Python you will also learn a notebook called Jupyter.  Jupyter allows you to write notes, show images, write and run Phython code, and much more all in the same document.  These documents will be turned in each week to show the work you have done. In these notebooks I expect good writing.  That means, among other things, that there are clear explanations of equations and plots.  Also that there are smooth transitions from one idea to another.  This document is written in Jupyter and serves as an example of what I expect."
   ]
  },
  {
   "cell_type": "markdown",
   "metadata": {},
   "source": [
    "## Jupyter Introduction\n",
    "Jupyter is a platform for creating documents that include programming code.  Text is entered into boxes, or cells. There are basically two different types of cells we will use most, Code cells and Markdown cells.  The type of cell you are currently working on can be changed by changing a the value of a drop down menu at top of the page.  If you don't yet have Jupyter installed on your computer please install it from [here](http://jupyter.readthedocs.io/en/latest/install.html).  You can also try it out without installing it [here](https://tmp54.tmpnb.org/user/FMH5HhFlGmUa/notebooks/Welcome%20to%20Python.ipynb).\n",
    "\n",
    "Code cells are for entering programming code.  These cells have a In[] with a number in the brackets. The code is run when the cursor is in the cell and you press \"Shift\" and \"Enter\" at the same time. We will be using Code cells to run Python code, but there are many different languages that could be used in these cells.\n",
    "\n",
    "Markdown cells are for entering text, or other informative material.  The text can include formating information, or other marks that show what should be displayed.  For example headers are markdown cells that start with the '#' symbol. HTML and LaTex can also be entered.  We will make use of LaTex a great deal this semester. LaTex code is a way to make mathematical symbols and equations.  To start and end a LaTex portion within a cell you use the dollar symbol (<b>$</b>) or two dollar symbols (<b>$$</b>).  Try it each and see the difference it makes.  All kinds of mathematics can be expressed this way.  For example $$\\int e^{i \\pi} \\cos\\left[\\frac{2\\pi}{\\lambda}x\\right] dx$$ A short list of a number of other things you can do in the markdown cells is given in this [totoral](http://nbviewer.jupyter.org/github/twistedhardware/mltutorial/blob/master/notebooks/jupyter/2.%20Markdown%20%26%20LaTeX.ipynb#).\n",
    "\n",
    "<b><span style=\"color:red;\">Your Assignment:</span></b>\n",
    "Take a look at the link above and create a Jupyter document with markdown cells that include at least the following:\n",
    "- 2 equations, one in text and the other on its own line.\n",
    "- headings\n",
    "- Some simple HTML code\n",
    "\n",
    "The text surrounding the above should be readable and express a narrative.\n"
   ]
  },
  {
   "cell_type": "markdown",
   "metadata": {},
   "source": [
    "## Python Introduction\n",
    "Python is a well developed programing language comparable to Matlab, Java or C++. It is open source and has many capabilities. It also has a large community of support.  In Physics 150 we will only be looking at some of the basics.  We will focus on the mathematics and plotting features.  Please feel free to look into other features you may be interested in.  \n",
    "\n",
    "### Calculator / variables\n",
    "Python has all the basic functions of a simple calculator, addition, subtraction, multiplication and division.  It follows standard order of operation rules.  If you need to type in a long operation it is highly recommended that you use parentheses to make it clear what is/should be computed first.\n",
    "\n"
   ]
  },
  {
   "cell_type": "code",
   "execution_count": 1,
   "metadata": {
    "collapsed": false,
    "jupyter": {
     "outputs_hidden": false
    }
   },
   "outputs": [
    {
     "data": {
      "text/plain": [
       "(3, 12, 7, 4.0)"
      ]
     },
     "execution_count": 1,
     "metadata": {},
     "output_type": "execute_result"
    }
   ],
   "source": [
    "1+2, 3*4, 10-3, 8/2 "
   ]
  },
  {
   "cell_type": "markdown",
   "metadata": {},
   "source": [
    "The following illustrates the difference parentheses can make in the value of a calculation."
   ]
  },
  {
   "cell_type": "code",
   "execution_count": 2,
   "metadata": {
    "collapsed": false,
    "jupyter": {
     "outputs_hidden": false
    }
   },
   "outputs": [
    {
     "data": {
      "text/plain": [
       "(23.25, 10.5)"
      ]
     },
     "execution_count": 2,
     "metadata": {},
     "output_type": "execute_result"
    }
   ],
   "source": [
    "3+4*5+1/4, (3+4)*((5+1)/4)"
   ]
  },
  {
   "cell_type": "markdown",
   "metadata": {},
   "source": [
    "We can also make and use variables.  A code variable is a little different than a variable that you talk about in a math class.  In a math class you might talk about the variables $x$ and $y$.  These could have values of any number between negative infinity and infinity in addition they may have an infinite number of values between any two other values. A computer has a hard time with that level of ambiguity.  In writing code we need to assign a specific value (or maybe a list of values) for each variable.  The code could change that value at a later time.  But at any given time each variable has a known assignment to a specific value."
   ]
  },
  {
   "cell_type": "code",
   "execution_count": 3,
   "metadata": {},
   "outputs": [],
   "source": [
    "x=5"
   ]
  },
  {
   "cell_type": "code",
   "execution_count": 4,
   "metadata": {
    "collapsed": false,
    "jupyter": {
     "outputs_hidden": false
    }
   },
   "outputs": [
    {
     "data": {
      "text/plain": [
       "7"
      ]
     },
     "execution_count": 4,
     "metadata": {},
     "output_type": "execute_result"
    }
   ],
   "source": [
    "x+2"
   ]
  },
  {
   "cell_type": "markdown",
   "metadata": {},
   "source": [
    "Please note that the '=' sign is not the same as mathematics either.  Here is is used as an assignment.\n",
    "```python\n",
    "x = 5\n",
    "```\n",
    "This makes x the same as 5. Also note that the order matters.  The left side should always be a single variable.  The following code doesn't work\n",
    "```python\n",
    "5 = x\n",
    "```\n",
    "Go ahead, try it and see.  It returns an error.  The other side though, the right hand side, can be more than just a value.  It can also be some mathematics that is evaluated.  Like so:"
   ]
  },
  {
   "cell_type": "code",
   "execution_count": 5,
   "metadata": {
    "collapsed": false,
    "jupyter": {
     "outputs_hidden": false
    }
   },
   "outputs": [],
   "source": [
    "y=(x+4)/2"
   ]
  },
  {
   "cell_type": "markdown",
   "metadata": {},
   "source": [
    "This assigns the value of 2.5 to the variable y.  Can you figure out why? It might be nice to be able to see what value a variable has.  To do this use the print function like so:"
   ]
  },
  {
   "cell_type": "code",
   "execution_count": 6,
   "metadata": {
    "collapsed": false,
    "jupyter": {
     "outputs_hidden": false
    }
   },
   "outputs": [
    {
     "name": "stdout",
     "output_type": "stream",
     "text": [
      "4.5\n"
     ]
    }
   ],
   "source": [
    "print(y)"
   ]
  },
  {
   "cell_type": "markdown",
   "metadata": {},
   "source": [
    "Or if your lazy just type y by itself:"
   ]
  },
  {
   "cell_type": "code",
   "execution_count": 7,
   "metadata": {
    "collapsed": false,
    "jupyter": {
     "outputs_hidden": false
    }
   },
   "outputs": [
    {
     "data": {
      "text/plain": [
       "4.5"
      ]
     },
     "execution_count": 7,
     "metadata": {},
     "output_type": "execute_result"
    }
   ],
   "source": [
    "y"
   ]
  },
  {
   "cell_type": "markdown",
   "metadata": {},
   "source": [
    "A variable can be more than just a single character, it can be a word. Using a descriptive word to describe a variable is much more meaningful in a program.  Doing so makes it easer for you and others to read and understand what the code is doing.  For example if I want to calculate the volume of a room which of the following is clearest?"
   ]
  },
  {
   "cell_type": "code",
   "execution_count": 8,
   "metadata": {},
   "outputs": [],
   "source": [
    "x=4\n",
    "y=2\n",
    "z=7\n",
    "v=x*y*z"
   ]
  },
  {
   "cell_type": "code",
   "execution_count": 9,
   "metadata": {},
   "outputs": [],
   "source": [
    "depth=4\n",
    "width=2\n",
    "hight=7\n",
    "volume=depth*width*hight"
   ]
  },
  {
   "cell_type": "markdown",
   "metadata": {},
   "source": [
    "When choosing variable names make them descriptive.  This will make it easier for others in your group and for the professor or teachers assignment to help you.  It will also help you get a better grade."
   ]
  },
  {
   "cell_type": "markdown",
   "metadata": {},
   "source": [
    "### Data types\n",
    "<b>Numbers:</b> The computer treats the two numbers 4 and 4.0 differently.  The first is an integer or just int.  The second is called a floating point number or float.  The computer needs to allocate more memory for this type of number.  In fact it 'thinks' of the number 4.0 as this 4.000000000000000.  In most cases we will be using floating point numbers for our computations. \n",
    "\n",
    "<b>Strings:</b> Variables can also be assigned words and sentences.  These are called strings. For example:\n",
    "\n"
   ]
  },
  {
   "cell_type": "code",
   "execution_count": 10,
   "metadata": {},
   "outputs": [],
   "source": [
    "FName=\"John\"\n",
    "LName=\"Doe\""
   ]
  },
  {
   "cell_type": "markdown",
   "metadata": {},
   "source": [
    "These can be used just like other variables."
   ]
  },
  {
   "cell_type": "code",
   "execution_count": 11,
   "metadata": {
    "collapsed": false,
    "jupyter": {
     "outputs_hidden": false
    }
   },
   "outputs": [
    {
     "name": "stdout",
     "output_type": "stream",
     "text": [
      "John\n",
      "Doe\n"
     ]
    }
   ],
   "source": [
    "print(FName)\n",
    "print(LName)"
   ]
  },
  {
   "cell_type": "markdown",
   "metadata": {},
   "source": [
    "You can even combine strings with the '+' operator to make new larger strings:"
   ]
  },
  {
   "cell_type": "code",
   "execution_count": 12,
   "metadata": {
    "collapsed": false,
    "jupyter": {
     "outputs_hidden": false
    }
   },
   "outputs": [
    {
     "name": "stdout",
     "output_type": "stream",
     "text": [
      "John Doe\n"
     ]
    }
   ],
   "source": [
    "print(FName + ' ' + LName)"
   ]
  },
  {
   "cell_type": "code",
   "execution_count": 13,
   "metadata": {
    "collapsed": false,
    "jupyter": {
     "outputs_hidden": false
    }
   },
   "outputs": [
    {
     "name": "stdout",
     "output_type": "stream",
     "text": [
      "Doe, John\n"
     ]
    }
   ],
   "source": [
    "print(LName + ', ' + FName)"
   ]
  },
  {
   "cell_type": "markdown",
   "metadata": {},
   "source": [
    "There are other data types in python but these three (int, float, string) will be used most often in this class."
   ]
  },
  {
   "cell_type": "markdown",
   "metadata": {},
   "source": [
    "### Lists\n",
    "Variables can also have multiple values assigned to them at the same time. There are different ways of grouping these values together. We will first look at something called a list.  Later we will look at arrays.\n",
    "\n",
    "List are created using brackets [] like so:\n"
   ]
  },
  {
   "cell_type": "code",
   "execution_count": 14,
   "metadata": {
    "collapsed": false,
    "jupyter": {
     "outputs_hidden": false
    }
   },
   "outputs": [],
   "source": [
    "L=[1.5,1.9,3.2,2.5,8.0]"
   ]
  },
  {
   "cell_type": "markdown",
   "metadata": {},
   "source": [
    "Here the variable L has all of the values in the list.  If we just want one of the values we can pick it out by using an index.  This index describes where in the list the number is.  In Python the first value in a list has the index of 0.  So to get the number 3.2 out of our list we would write:"
   ]
  },
  {
   "cell_type": "code",
   "execution_count": 15,
   "metadata": {
    "collapsed": false,
    "jupyter": {
     "outputs_hidden": false
    }
   },
   "outputs": [
    {
     "data": {
      "text/plain": [
       "3.2"
      ]
     },
     "execution_count": 15,
     "metadata": {},
     "output_type": "execute_result"
    }
   ],
   "source": [
    "L[2]"
   ]
  },
  {
   "cell_type": "markdown",
   "metadata": {},
   "source": [
    "It is also possible to choose a subset in this list. This is done with ':'. like so:  "
   ]
  },
  {
   "cell_type": "code",
   "execution_count": 16,
   "metadata": {
    "collapsed": false,
    "jupyter": {
     "outputs_hidden": false
    }
   },
   "outputs": [
    {
     "data": {
      "text/plain": [
       "[1.5, 1.9, 3.2]"
      ]
     },
     "execution_count": 16,
     "metadata": {},
     "output_type": "execute_result"
    }
   ],
   "source": [
    "L[0:3]"
   ]
  },
  {
   "cell_type": "markdown",
   "metadata": {},
   "source": [
    "Other things for you to try include \n",
    "```python\n",
    "L[:3]\n",
    "L[2:]\n",
    "L[1:3]\n",
    "```\n",
    "You can also use negative numbers.  See if you can figure out what these will do.\n",
    "```python\n",
    "L[-1:2]\n",
    "L[-3:1]\n",
    "```\n"
   ]
  },
  {
   "cell_type": "markdown",
   "metadata": {},
   "source": [
    "It is also easy to add another number to a list, or to combine lists.  This is done with the append function like so"
   ]
  },
  {
   "cell_type": "code",
   "execution_count": 17,
   "metadata": {
    "collapsed": false,
    "jupyter": {
     "outputs_hidden": false
    }
   },
   "outputs": [
    {
     "name": "stdout",
     "output_type": "stream",
     "text": [
      "[1.5, 1.9, 3.2, 2.5, 8.0, 6.4]\n"
     ]
    }
   ],
   "source": [
    "L.append(6.4)\n",
    "print(L)"
   ]
  },
  {
   "cell_type": "markdown",
   "metadata": {},
   "source": [
    "To combine two list you can use the '+' operator. Or if you want to add a list to the end of another use the '+=' operator.  This is the same thing as writing \n",
    "```python\n",
    "L=L+[new List]\n",
    "```\n",
    "Note, this line makes no sense from a purely mathematical perspective.  But with Code it is just telling the computer to take the value of L add some new values.  Then take that and assign it to L, thus changing L."
   ]
  },
  {
   "cell_type": "code",
   "execution_count": 18,
   "metadata": {
    "collapsed": false,
    "jupyter": {
     "outputs_hidden": false
    }
   },
   "outputs": [
    {
     "name": "stdout",
     "output_type": "stream",
     "text": [
      "[1.5, 1.9, 3.2, 2.5, 8.0, 6.4, 3.4, 6.9, 7.3]\n"
     ]
    }
   ],
   "source": [
    "L+=[3.4,6.9,7.3]\n",
    "\n",
    "print(L)"
   ]
  },
  {
   "cell_type": "markdown",
   "metadata": {},
   "source": [
    " You can easily fill a list with a set of values with the range function.  Like so."
   ]
  },
  {
   "cell_type": "code",
   "execution_count": 19,
   "metadata": {
    "collapsed": false,
    "jupyter": {
     "outputs_hidden": false
    }
   },
   "outputs": [
    {
     "name": "stdout",
     "output_type": "stream",
     "text": [
      "[0, 1, 2, 3, 4, 5, 6, 7, 8, 9]\n"
     ]
    }
   ],
   "source": [
    "L_2=list(range(10))\n",
    "\n",
    "print(L_2)"
   ]
  },
  {
   "cell_type": "markdown",
   "metadata": {},
   "source": [
    "### Importing libraries\n",
    "In order to get additional functions you can import libraries into Python.  This is done with the import function or the magic operator.  A few libraries that we will use often are math, numpy, matplotlib.  Import these libraries like so:"
   ]
  },
  {
   "cell_type": "code",
   "execution_count": 20,
   "metadata": {},
   "outputs": [],
   "source": [
    "import matplotlib.pyplot as plt\n",
    "import math\n",
    "import numpy as np"
   ]
  },
  {
   "cell_type": "markdown",
   "metadata": {},
   "source": [
    "The % symbol is used like import, but is called magic because it changes the way Jupiter operates not just Python.  To make plots work nicely inside Jupyter include the Magic function like so:"
   ]
  },
  {
   "cell_type": "code",
   "execution_count": 21,
   "metadata": {},
   "outputs": [],
   "source": [
    "%matplotlib inline"
   ]
  },
  {
   "cell_type": "markdown",
   "metadata": {},
   "source": [
    "A Google search for Python libraries or Jupyter magic will turn up many more available features you may be interested in."
   ]
  },
  {
   "cell_type": "markdown",
   "metadata": {},
   "source": [
    "### Ploting"
   ]
  },
  {
   "cell_type": "markdown",
   "metadata": {},
   "source": [
    "There is a good plotting tutorial and example [here](http://matplotlib.org/1.5.1/users/pyplot_tutorial.html). Please take a look at it now and use it later when you need more advanced features when plotting.  For now we will look at a basic example.  Make sure the above import and magic lines are run before moving on.\n",
    "\n",
    "First we need a list of numbers for the x and y axis.  This is most easily done with the range command like so"
   ]
  },
  {
   "cell_type": "code",
   "execution_count": 22,
   "metadata": {
    "collapsed": false,
    "jupyter": {
     "outputs_hidden": false
    }
   },
   "outputs": [
    {
     "data": {
      "text/plain": [
       "[0, 1, 2, 3, 4, 5, 6, 7, 8, 9]"
      ]
     },
     "execution_count": 22,
     "metadata": {},
     "output_type": "execute_result"
    }
   ],
   "source": [
    "x=list(range(10))\n",
    "x"
   ]
  },
  {
   "cell_type": "code",
   "execution_count": 23,
   "metadata": {
    "collapsed": false,
    "jupyter": {
     "outputs_hidden": false
    }
   },
   "outputs": [
    {
     "data": {
      "text/plain": [
       "[5, 6, 7, 8, 9, 10, 11, 12, 13, 14]"
      ]
     },
     "execution_count": 23,
     "metadata": {},
     "output_type": "execute_result"
    }
   ],
   "source": [
    "y=list(range(5,15))\n",
    "y"
   ]
  },
  {
   "cell_type": "markdown",
   "metadata": {},
   "source": [
    "We can then plot them with a function from the matplotlib library like so:"
   ]
  },
  {
   "cell_type": "code",
   "execution_count": 24,
   "metadata": {
    "collapsed": false,
    "jupyter": {
     "outputs_hidden": false
    }
   },
   "outputs": [
    {
     "data": {
      "text/plain": [
       "[<matplotlib.lines.Line2D at 0x1b36da37190>]"
      ]
     },
     "execution_count": 24,
     "metadata": {},
     "output_type": "execute_result"
    },
    {
     "data": {
      "image/png": "[encoded data removed]",
      "text/plain": [
       "<Figure size 432x288 with 1 Axes>"
      ]
     },
     "metadata": {
      "needs_background": "light"
     },
     "output_type": "display_data"
    }
   ],
   "source": [
    "plt.plot(x, y)"
   ]
  },
  {
   "cell_type": "markdown",
   "metadata": {},
   "source": [
    "You may notice if you try to any any mathematics on the list x to get y it may not do what you expect.  This is primarily because of the way lists are structured.  This is easier done with arrays in the numpy library. We will look at this next time.\n",
    "\n",
    "<b><span style=\"color:red;\">Your Assignment:</span></b>\n",
    "Take a look at the above and create a Jupyter document with markdown cells and code cells that include at least the following:\n",
    "- use the basic calculator features in a python code cell\n",
    "- define some variables.  Make them meaningful to you and perform a calculation with them.\n",
    "- Make a list with at least 10 numbers in it.  The use ':' to pull out a subset of that list.  Try negative numbers and describe what they do in this context.\n",
    "- import the necessary libraries to make a plot\n",
    "- create a simple plot\n",
    "\n",
    "The text surrounding the above should be readable and express a narrative.\n"
   ]
  }
 ],
 "metadata": {
  "anaconda-cloud": {},
  "hide_input": false,
  "kernelspec": {
   "display_name": "Python 3",
   "language": "python",
   "name": "python3"
  },
  "language_info": {
   "codemirror_mode": {
    "name": "ipython",
    "version": 3
   },
   "file_extension": ".py",
   "mimetype": "text/x-python",
   "name": "python",
   "nbconvert_exporter": "python",
   "pygments_lexer": "ipython3",
   "version": "3.8.3"
  },
  "nav_menu": {},
  "toc": {
   "navigate_menu": true,
   "number_sections": true,
   "sideBar": true,
   "threshold": 6,
   "toc_cell": true,
   "toc_section_display": "block",
   "toc_window_display": true
  },
  "toc_position": {
   "height": "783px",
   "left": "0px",
   "right": "1068px",
   "top": "107px",
   "width": "212px"
  }
 },
 "nbformat": 4,
 "nbformat_minor": 4
}
