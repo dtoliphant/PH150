{
 "cells": [
  {
   "cell_type": "markdown",
   "metadata": {
    "toc": "true"
   },
   "source": [
    "# Table of Contents\n",
    " <p><div class=\"lev1 toc-item\"><a href=\"#PH150-Week-6\" data-toc-modified-id=\"PH150-Week-6-1\"><span class=\"toc-item-num\">1&nbsp;&nbsp;</span>PH150 Week 6</a></div><div class=\"lev1 toc-item\"><a href=\"#1-D-to-2-D,-Vectors\" data-toc-modified-id=\"1-D-to-2-D,-Vectors-2\"><span class=\"toc-item-num\">2&nbsp;&nbsp;</span>1-D to 2-D, Vectors</a></div><div class=\"lev2 toc-item\"><a href=\"#Your-Assignment:\" data-toc-modified-id=\"Your-Assignment:-2.1\"><span class=\"toc-item-num\">2.1&nbsp;&nbsp;</span><b><span style=\"color: red\">Your Assignment:</span></b></a></div><div class=\"lev2 toc-item\"><a href=\"#Your-Assignment:\" data-toc-modified-id=\"Your-Assignment:-2.2\"><span class=\"toc-item-num\">2.2&nbsp;&nbsp;</span><b><span style=\"color: red\">Your Assignment:</span></b></a></div><div class=\"lev1 toc-item\"><a href=\"#2-D-Drag\" data-toc-modified-id=\"2-D-Drag-3\"><span class=\"toc-item-num\">3&nbsp;&nbsp;</span>2-D Drag</a></div><div class=\"lev2 toc-item\"><a href=\"#Your-Assignment:\" data-toc-modified-id=\"Your-Assignment:-3.1\"><span class=\"toc-item-num\">3.1&nbsp;&nbsp;</span><b><span style=\"color: red\">Your Assignment:</span></b></a></div>"
   ]
  },
  {
   "cell_type": "markdown",
   "metadata": {},
   "source": [
    "# PH150 Week 6\n",
    "This week you will turn your 1 dimensional projectile function into a 2-dimensional one. Force, acceleration, velocity and position are all vectors and should be treated as such.  Doing so will allow you to make realistic predictions about a projectile with drag.  You'll allso test those predictions and look at error."
   ]
  },
  {
   "cell_type": "markdown",
   "metadata": {},
   "source": [
    "# 1-D to 2-D, Vectors\n",
    "Basic two dimensional projectile motion is simply projectile motion twice.  You do the same thing to find the $x$ position as you did to find the $y$ position.  Likewise for the velocities $v_x$ and $v_y$.  The only difference is in the acceleration, because gravity only acts in the vertical direction the $a_y$ is $-g$ but the $a_x$ is zero.  This is of course assuming no drag.  Drag has a direction all its own; it isn't always just in the $y$ direction or just in the $x$ direction.  For now though let's assume drag is zero, we'll deal with it in the next section.\n",
    "\n",
    "Just like last time we'll create a list for time, position, velocity and acceleration.  Only this time there will be two lists for the vector quantities.  We'll make that list by updating the last value in the list.  Like so:\n",
    "$$a_x(n+1) = 0 ~~~\\mbox{and}~~~ a_y(n+1)= -g$$\n",
    "\n",
    "\n",
    "$$v_x(n+1) = v_x(n)+a_x(n)*\\Delta t ~~~\\mbox{and}~~~ v_y(n+1)= v_y(n)+a_y(n)*\\Delta t$$\n",
    "\n",
    "\n",
    "$$x(n+1) = x(n)+v_x(n)*\\Delta t ~~~\\mbox{and}~~~ y(n+1)= y(n)+v_y(n)*\\Delta t$$\n",
    "\n",
    "$$t(n+1) = t(n)+\\Delta t$$\n",
    "\n",
    "Note: with these equations the $(n)$ denotes the current value in the list, or in our case, the last value.  The $(n+1)$ then is the next value that will be added to the list. In past its been old and new. This is the same idea, just a different way to express it."
   ]
  },
  {
   "cell_type": "markdown",
   "metadata": {},
   "source": [
    "## <b><span style=\"color:red;\">Your Assignment:</span></b>\n",
    "- Copy the code you built last time and delete the drag term\n",
    "- Change the code you wrote last time to handle 2-D projectile motion\n",
    "- Plot different things to test to see if it works the way you expect it to work"
   ]
  },
  {
   "cell_type": "markdown",
   "metadata": {},
   "source": [
    "## <b><span style=\"color:red;\">Your Assignment:</span></b>\n",
    "- determine initial conditions for your projectile launcher: y_0, v_0, and $\\theta$ for the metal ball\n",
    "- use those initial conditions and your code to make a prediction about were the ball will land\n",
    "- measure were your ball lands and compare to your prediction."
   ]
  },
  {
   "cell_type": "markdown",
   "metadata": {},
   "source": [
    "# 2-D Drag\n",
    "As we saw last time drag is a force that depends on velocity like so:\n",
    "$$F_D=-\\frac{1}{2} C \\rho A v^2 $$\n",
    "But force and velocity are both vectors.  In this equation the velocity is squared.  How do we incorporate the direction of drag into this equation.  First, drag always acts in the opposite direction to velocity.  That kind of shows up with the negative sign in the equation, but how do we get the direction of the velocity?  This is done with unit vectors. These are vectors that has magnitude 1 but can point in the direction you need.  You have seen these before in the standard unit vectors for $x$, $y$ and $z$ often written as $\\hat i$, $\\hat j$, $\\hat k$ or as $\\hat x$, $\\hat y$, $\\hat v$.  The hat ($\\hat~$) just means a unit vector.  So $\\hat x$ means a vector that has magnitude 1 and points in the $x$ direction.  so what we need is $\\hat v$.  the the drag equation can be writen as a vector like so:\n",
    "$$\\vec{F_D}=-\\frac{1}{2} C \\rho A v^2 \\hat v$$\n",
    "A unit vector can be found by taking the regular vector and dividing it by it's magnitude.  This keeps its direction but reduces its size to one.\n",
    "$$\\hat v=\\frac{\\vec{v}}{|v|}$$\n",
    "Note that the $v^2$ in the drag equation is the magnitude of $v$ squared.  So by replacing the definition of the unit vector for velocity into the drag equation we get.\n",
    "$$\\vec{F_D}=-\\frac{1}{2} C \\rho A ~|v|^2~ \\frac{\\vec{v}}{|v|} $$\n",
    "simplifies to\n",
    "$$\\vec{F_D}=-\\frac{1}{2} C \\rho A ~|v|~ \\vec{v} $$\n",
    "\n",
    "The $\\vec{v}$ is of course just the velocity vector.  When written is standard notation you should begin to see how to implement this into your code.\n",
    "\n",
    "$$\\vec{v}=v_x \\hat i +v_y \\hat j$$\n",
    "\n",
    "I'll write out a little more, if you're still having trouble see it.\n",
    "\n",
    "$$F_{Dx}=-\\frac{1}{2} C \\rho A ~(v_x^2+v_y^2)^{1/2}~ v_x$$\n",
    "\n",
    "\n",
    "$$F_{Dy}=-\\frac{1}{2} C \\rho A ~(v_x^2+v_y^2)^{1/2}~ v_y$$"
   ]
  },
  {
   "cell_type": "markdown",
   "metadata": {},
   "source": [
    "## <b><span style=\"color:red;\">Your Assignment:</span></b>\n",
    "- Change the code one more time to implement 2-D drag\n",
    "- determine initial conditions for your projectile launcher: y_0, v_0, $\\theta$ for the plastic ball\n",
    "- use those initial conditions and your code to make a prediction about were the ball will land\n",
    "- measure were your ball lands and compare to your prediction.\n",
    "- compare and contrast to the metal ball"
   ]
  },
  {
   "cell_type": "code",
   "execution_count": null,
   "metadata": {},
   "outputs": [],
   "source": []
  }
 ],
 "metadata": {
  "anaconda-cloud": {},
  "hide_input": false,
  "kernelspec": {
   "display_name": "Python 3",
   "language": "python",
   "name": "python3"
  },
  "language_info": {
   "codemirror_mode": {
    "name": "ipython",
    "version": 3
   },
   "file_extension": ".py",
   "mimetype": "text/x-python",
   "name": "python",
   "nbconvert_exporter": "python",
   "pygments_lexer": "ipython3",
   "version": "3.7.3"
  },
  "nav_menu": {},
  "toc": {
   "navigate_menu": true,
   "number_sections": true,
   "sideBar": true,
   "threshold": 6,
   "toc_cell": true,
   "toc_section_display": "block",
   "toc_window_display": true
  }
 },
 "nbformat": 4,
 "nbformat_minor": 4
}
