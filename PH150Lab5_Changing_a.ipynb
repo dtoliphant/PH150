{
 "cells": [
  {
   "cell_type": "markdown",
   "metadata": {
    "toc": "true"
   },
   "source": [
    "# Table of Contents\n",
    " <p><div class=\"lev1 toc-item\"><a href=\"#PH150-Week-5\" data-toc-modified-id=\"PH150-Week-5-1\"><span class=\"toc-item-num\">1&nbsp;&nbsp;</span>PH150 Week 5</a></div><div class=\"lev1 toc-item\"><a href=\"#Another-look-at-the-Math\" data-toc-modified-id=\"Another-look-at-the-Math-2\"><span class=\"toc-item-num\">2&nbsp;&nbsp;</span>Another look at the Math</a></div><div class=\"lev1 toc-item\"><a href=\"#Algorithm-for-projectile-motion-with-non-constant-acceleration,\" data-toc-modified-id=\"Algorithm-for-projectile-motion-with-non-constant-acceleration,-3\"><span class=\"toc-item-num\">3&nbsp;&nbsp;</span>Algorithm for projectile motion with non-constant acceleration,</a></div><div class=\"lev2 toc-item\"><a href=\"#Your-Assignment:\" data-toc-modified-id=\"Your-Assignment:-3.1\"><span class=\"toc-item-num\">3.1&nbsp;&nbsp;</span><b><span style=\"color: red\">Your Assignment:</span></b></a></div><div class=\"lev1 toc-item\"><a href=\"#Projectile-motion-function\" data-toc-modified-id=\"Projectile-motion-function-4\"><span class=\"toc-item-num\">4&nbsp;&nbsp;</span>Projectile motion function</a></div><div class=\"lev2 toc-item\"><a href=\"#Your-Assignment:\" data-toc-modified-id=\"Your-Assignment:-4.1\"><span class=\"toc-item-num\">4.1&nbsp;&nbsp;</span><b><span style=\"color: red\">Your Assignment:</span></b></a></div><div class=\"lev1 toc-item\"><a href=\"#Drag\" data-toc-modified-id=\"Drag-5\"><span class=\"toc-item-num\">5&nbsp;&nbsp;</span>Drag</a></div><div class=\"lev2 toc-item\"><a href=\"#Your-Assignment:\" data-toc-modified-id=\"Your-Assignment:-5.1\"><span class=\"toc-item-num\">5.1&nbsp;&nbsp;</span><b><span style=\"color: red\">Your Assignment:</span></b></a></div>"
   ]
  },
  {
   "cell_type": "markdown",
   "metadata": {},
   "source": [
    "# PH150 Week 5\n",
    "Last week we looked at the definition of acceleration and showed how you use this to develop an algorithm to find velocities at any given time.  We also saw the same process for position.  This week we'll develop a projectile motion function that can give position and velocity at any time for a non-constant acceleration. We'll then look at a specific non-constant acceleration, drag."
   ]
  },
  {
   "cell_type": "code",
   "execution_count": 1,
   "metadata": {},
   "outputs": [
    {
     "data": {
      "image/jpeg": "[encoded data removed]",
      "text/html": [
       "\n",
       "        <iframe\n",
       "            width=\"400\"\n",
       "            height=\"300\"\n",
       "            src=\"https://www.youtube.com/embed/v-pbGAts_Fg\"\n",
       "            frameborder=\"0\"\n",
       "            allowfullscreen\n",
       "        ></iframe>\n",
       "        "
      ],
      "text/plain": [
       "<IPython.lib.display.YouTubeVideo at 0x24df8fae908>"
      ]
     },
     "execution_count": 1,
     "metadata": {},
     "output_type": "execute_result"
    }
   ],
   "source": [
    "from IPython.lib.display import YouTubeVideo\n",
    "YouTubeVideo('v-pbGAts_Fg')"
   ]
  },
  {
   "cell_type": "markdown",
   "metadata": {},
   "source": [
    "# Another look at the Math\n",
    "If the acceleration is constant we can take the definitions of acceleration and velocity \n",
    "\n",
    "$$a=\\frac{dv}{dt}  ~~~\\mbox{and}~~~ v=\\frac{dx}{dt}$$\n",
    "\n",
    "and by using integration derive the kinematic equations.\n",
    "\\begin{equation} a=constant~~~\\rightarrow~~~v=v_0+at~~~\\mbox{,}~~~x=x_0+v_0t+\\frac{1}{2}at^2 \\end{equation}\n",
    "\n",
    "If the acceleration is not constant it is not always possible to derive nice mathematical equations for position and velocity.  But we can still make a numerical approximation to find the position and velocity.  To do this we first make an approximation for the derivatives by replacing the infinitely small $d$ with a very small $\\Delta$:\n",
    "$$a=\\frac{\\Delta v}{\\Delta t}  ~~~\\mbox{and}~~~ v=\\frac{\\Delta x}{\\Delta t}$$\n",
    "We then replace $\\Delta v$ and $\\Delta x$ with their defintions and solve for their new values:\n",
    "$$\\Delta v = v_{new}-v_{old}~~~\\mbox{and}~~~\\Delta x = x_{new}-x_{old}$$\n",
    "Then solve for the new values.\n",
    "\\begin{equation} v_{new}= v_{old}+a (\\Delta t) ~~~\\mbox{and}~~~ x_{new}= x_{old}+v (\\Delta t) \\end{equation}\n",
    "\n",
    "Think of these equations as a update to the old values.  Also, please note these(2) are not the kinematic equations(1).  They are significantly different in a number of ways.\n",
    "1. They don't require a constant acceleration\n",
    "2. The $\\Delta t$ must be small for them to work well\n",
    "3. They only make small changes at a time, updating the old values to the new by only a small step\n",
    "\n",
    "These differences can be a problem because they can't tell us posistion and velocity any any given time; only at the next little bit of time. But they also free us from only looking at systems with constant acceleration.  We over come their problem by simply using these same equations over and over again.\n"
   ]
  },
  {
   "cell_type": "markdown",
   "metadata": {},
   "source": [
    "# Algorithm for projectile motion with non-constant acceleration, \n",
    "\n",
    "- first find the value of the acceleration, velocity and position at the start\n",
    "$$a_0= f(v_0,x_0,t_0)~~~\\mbox{and}~~~v_0~~~\\mbox{and}~~~x_0$$\n",
    "\n",
    "- also choose a value for $\\Delta t$, make sure it is small.\n",
    "\n",
    "- then use the update equation to find the next value's for $v$ and $x$\n",
    "\n",
    "$$v_1= v_0+a_0 (\\Delta t) ~~~\\mbox{and}~~~ x_1= x_0+v_0 (\\Delta t)~~~\\mbox{and}~~~ t_1=t_0+\\Delta t$$\n",
    "\n",
    "- use these new values to find the acceleration again at this next step\n",
    "\n",
    "$$a_1= f(v_1,x_1,t_1)$$\n",
    "\n",
    "- use them again to step forward just a bit and find the next values\n",
    "\n",
    "$$v_2= v_1+a_1 (\\Delta t) ~~~\\mbox{and}~~~ x_2= x_1+v_1 (\\Delta t)~~~\\mbox{and}~~~ t_2=t_1+\\Delta t$$\n",
    "\n",
    "- then do it again and again until you've got to the step you care about."
   ]
  },
  {
   "cell_type": "markdown",
   "metadata": {},
   "source": [
    "## <b><span style=\"color:red;\">Your Assignment:</span></b>\n",
    "- pull out a real piece of paper and write an algorithm for a projectile motion function. An algorithm is a description of the process that describes in words what the computer code will do. \n",
    "- Be sure that it includes a loop. Loops can be shown in an algorithm in a number of different ways. An arrow going from the end of the process back to the beginning of the loops is one. Choose a way that works best for you.\n",
    "- This piece of paper, with your algorithm on it, is your ticket to class. You will not be admitted to class without it!"
   ]
  },
  {
   "cell_type": "markdown",
   "metadata": {},
   "source": [
    "# Projectile motion function\n",
    "To create a function that models the trajectory of a rocket we need to recall a few things. We may want to plot the position vs time or the velocity vs time or even the acceleration vs time.  Because we want to make these plots we'll need each of these values to be arrays, not just single valued variables.  We'll also want to add values to the end of the array as we update."
   ]
  },
  {
   "cell_type": "code",
   "execution_count": 12,
   "metadata": {},
   "outputs": [
    {
     "name": "stdout",
     "output_type": "stream",
     "text": [
      "[ 1.]\n",
      "[ 1.  2.]\n",
      "[ 1.  2.  3.]\n"
     ]
    }
   ],
   "source": [
    "import numpy as np\n",
    "x=np.array([])\n",
    "x=np.append(x,[1])\n",
    "print(x)\n",
    "x=np.append(x,[2])\n",
    "print(x)\n",
    "x=np.append(x,[3])\n",
    "print(x)"
   ]
  },
  {
   "cell_type": "markdown",
   "metadata": {},
   "source": [
    "A while loop will be used to keep updating the acceleration, velocity, position and time.  You can stop the loop based off of any number of conditions, but the position is a common thing to check."
   ]
  },
  {
   "cell_type": "code",
   "execution_count": 13,
   "metadata": {},
   "outputs": [],
   "source": [
    "i=0\n",
    "while (x[i]>0):\n",
    "    # do stuff that changes the array x and the array v\n",
    "    x=np.append(x,0)\n",
    "    # also change i\n",
    "    i=i+1"
   ]
  },
  {
   "cell_type": "markdown",
   "metadata": {},
   "source": [
    "## <b><span style=\"color:red;\">Your Assignment:</span></b>\n",
    "- implement your algorithm by making a function that models a simple projectile\n",
    "- start by assume the acceleration is a constant -g\n",
    "- make a plot of the position vs time for a projectile started at 1m high and with a positive velocity of 3m/s\n",
    "- change the acceleration so that it is not constant. You could make it depend on time, velocity or position. Just make it change in some way and make a plot. Check to see if the plot make sense given the way you made the acceleration change. "
   ]
  },
  {
   "cell_type": "markdown",
   "metadata": {},
   "source": [
    "# Drag\n",
    "Air drag changes the acceleration of a object in air.  The drag force is\n",
    "$$F_D=-\\frac{1}{2} C \\rho A v^2 $$\n",
    "The total force on an object falling in air then is\n",
    "$$\\sum F=F_g +F_D=ma$$\n",
    "so the total acceleration is\n",
    "$$a=-g-\\frac{1}{m}\\frac{1}{2} C \\rho A v^2 \\hat{v}$$\n",
    "Notice the $\\hat{v}$ at the end. This is a symbol used to denote the direction of $v$, the velocity. It indicates that the direction of the drag is always opposite the direction of the velocity. Think about how to include this in your code."
   ]
  },
  {
   "cell_type": "markdown",
   "metadata": {},
   "source": [
    "## <b><span style=\"color:red;\">Your Assignment:</span></b>\n",
    "- Change your projectile function to include drag, a non-constant acceleration\n",
    "- Use your function to model the falling of a crumpled up piece of paper\n",
    "- Compare the time it takes a crumpled up piece of paper with your numerical model's time for falling, i.e. do the experiment."
   ]
  },
  {
   "cell_type": "code",
   "execution_count": null,
   "metadata": {},
   "outputs": [],
   "source": []
  }
 ],
 "metadata": {
  "anaconda-cloud": {},
  "hide_input": false,
  "kernelspec": {
   "display_name": "Python 3",
   "language": "python",
   "name": "python3"
  },
  "language_info": {
   "codemirror_mode": {
    "name": "ipython",
    "version": 3
   },
   "file_extension": ".py",
   "mimetype": "text/x-python",
   "name": "python",
   "nbconvert_exporter": "python",
   "pygments_lexer": "ipython3",
   "version": "3.7.3"
  },
  "nav_menu": {},
  "toc": {
   "navigate_menu": true,
   "number_sections": true,
   "sideBar": true,
   "threshold": 6,
   "toc_cell": true,
   "toc_section_display": "block",
   "toc_window_display": true
  }
 },
 "nbformat": 4,
 "nbformat_minor": 4
}
