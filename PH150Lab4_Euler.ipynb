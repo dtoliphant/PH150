{
 "cells": [
  {
   "cell_type": "markdown",
   "metadata": {
    "toc": "true"
   },
   "source": [
    "# Table of Contents\n",
    " <p><div class=\"lev1 toc-item\"><a href=\"#PH150-Week-4\" data-toc-modified-id=\"PH150-Week-4-1\"><span class=\"toc-item-num\">1&nbsp;&nbsp;</span>PH150 Week 4</a></div><div class=\"lev1 toc-item\"><a href=\"#Review\" data-toc-modified-id=\"Review-2\"><span class=\"toc-item-num\">2&nbsp;&nbsp;</span>Review</a></div><div class=\"lev1 toc-item\"><a href=\"#Defining-Functions\" data-toc-modified-id=\"Defining-Functions-3\"><span class=\"toc-item-num\">3&nbsp;&nbsp;</span>Defining Functions</a></div><div class=\"lev2 toc-item\"><a href=\"#Your-Assignment:\" data-toc-modified-id=\"Your-Assignment:-3.1\"><span class=\"toc-item-num\">3.1&nbsp;&nbsp;</span><b><span style=\"color: red\">Your Assignment:</span></b></a></div><div class=\"lev1 toc-item\"><a href=\"#The-While-Loop\" data-toc-modified-id=\"The-While-Loop-4\"><span class=\"toc-item-num\">4&nbsp;&nbsp;</span>The While Loop</a></div><div class=\"lev2 toc-item\"><a href=\"#Your-Assignment:\" data-toc-modified-id=\"Your-Assignment:-4.1\"><span class=\"toc-item-num\">4.1&nbsp;&nbsp;</span><b><span style=\"color: red\">Your Assignment:</span></b></a></div><div class=\"lev1 toc-item\"><a href=\"#Different-Math-(differential-math)\" data-toc-modified-id=\"Different-Math-(differential-math)-5\"><span class=\"toc-item-num\">5&nbsp;&nbsp;</span>Different Math (differential math)</a></div><div class=\"lev2 toc-item\"><a href=\"#Your-Assignment:\" data-toc-modified-id=\"Your-Assignment:-5.1\"><span class=\"toc-item-num\">5.1&nbsp;&nbsp;</span><b><span style=\"color: red\">Your Assignment:</span></b></a></div>"
   ]
  },
  {
   "cell_type": "markdown",
   "metadata": {},
   "source": [
    "# PH150 Week 4\n",
    "In your physics class you've learned about functions/equations that describe projectile motion. These equations make an assumption that the acceleration is constant.  They do not work if there is drag from the air, or wind or a push from an engine.  To account for non-constant acceleration we need to develop our own function.  This week we'll learn about loops and how to make functions.  We'll also start to learn about the math we'll need to make a function for projectile motion that can handle other forces besides just gravity."
   ]
  },
  {
   "cell_type": "markdown",
   "metadata": {},
   "source": [
    "# Review\n",
    "First lets review a few important things from past labs.  In order to plot and do some basic math and work with arrays we need to import the following libraries. Please make sure that these are always near the top of your document so that you can use their functions. We will be using them often."
   ]
  },
  {
   "cell_type": "code",
   "execution_count": 1,
   "metadata": {},
   "outputs": [],
   "source": [
    "import math # numpy has most of the math functions that you'll need. But this one can come in handy if you cant find something in numpy\n",
    "import numpy as np\n",
    "import matplotlib.pyplot as plt\n",
    "%matplotlib notebook"
   ]
  },
  {
   "cell_type": "markdown",
   "metadata": {},
   "source": [
    "In order to use a function from one of these libraries we need to first state the name of the library, or what we are using as its name, then a period then the name of the function.  Like so:"
   ]
  },
  {
   "cell_type": "code",
   "execution_count": 2,
   "metadata": {},
   "outputs": [
    {
     "data": {
      "text/plain": [
       "2.23606797749979"
      ]
     },
     "execution_count": 2,
     "metadata": {},
     "output_type": "execute_result"
    }
   ],
   "source": [
    "np.sqrt(5)"
   ]
  },
  {
   "cell_type": "code",
   "execution_count": 3,
   "metadata": {},
   "outputs": [
    {
     "data": {
      "text/plain": [
       "2.23606797749979"
      ]
     },
     "execution_count": 3,
     "metadata": {},
     "output_type": "execute_result"
    }
   ],
   "source": [
    "math.sqrt(5)"
   ]
  },
  {
   "cell_type": "markdown",
   "metadata": {},
   "source": [
    "Both the numpy and math libraries have the square root function.  They each also have many more functions to get a list of just the mathematical functions in numpy take a look at:\n",
    "\n",
    "http://docs.scipy.org/doc/numpy/reference/routines.math.html\n",
    "\n",
    "For a similar list of functions in the math library take a look at:\n",
    "\n",
    "https://docs.python.org/2/library/math.html\n",
    "\n",
    "There is a lot of overlap, but numpy has more than just mathematical functions.  For example it has a function that can turn a list into an array.  We saw this function last week.  It is the array function.  When numbers are stored in an array like this it allows us to perform math on all of the numbers in the array at the same time, or to just pick out one value and work with it.\n"
   ]
  },
  {
   "cell_type": "code",
   "execution_count": 4,
   "metadata": {},
   "outputs": [
    {
     "name": "stdout",
     "output_type": "stream",
     "text": [
      "[0 2 4 6 8]\n"
     ]
    }
   ],
   "source": [
    "My_array=np.array([0, 2, 4, 6, 8])\n",
    "print(My_array)"
   ]
  },
  {
   "cell_type": "code",
   "execution_count": 5,
   "metadata": {},
   "outputs": [
    {
     "name": "stdout",
     "output_type": "stream",
     "text": [
      "[ 0  6 12 18 24]\n"
     ]
    }
   ],
   "source": [
    "print(My_array*3)"
   ]
  },
  {
   "cell_type": "code",
   "execution_count": 6,
   "metadata": {},
   "outputs": [
    {
     "name": "stdout",
     "output_type": "stream",
     "text": [
      "24\n"
     ]
    }
   ],
   "source": [
    "print(My_array[3]*4)"
   ]
  },
  {
   "cell_type": "markdown",
   "metadata": {},
   "source": [
    "This makes it relatively easy to plot functions.  First create an array for the x axis.  Then apply the function to that array to get the array for the y.  Then plot. Like so:"
   ]
  },
  {
   "cell_type": "code",
   "execution_count": 7,
   "metadata": {},
   "outputs": [
    {
     "name": "stdout",
     "output_type": "stream",
     "text": [
      "[-4.  -3.5 -3.  -2.5 -2.  -1.5 -1.  -0.5  0.   0.5  1.   1.5  2.   2.5\n",
      "  3.   3.5  4. ]\n"
     ]
    }
   ],
   "source": [
    "x=np.arange(-4.0,4.2,0.5)\n",
    "print(x)"
   ]
  },
  {
   "cell_type": "code",
   "execution_count": 8,
   "metadata": {},
   "outputs": [],
   "source": [
    "y=np.sin(x)"
   ]
  },
  {
   "cell_type": "code",
   "execution_count": 9,
   "metadata": {},
   "outputs": [
    {
     "data": {
      "image/png": "[encoded data removed]",
      "text/plain": [
       "<Figure size 432x288 with 1 Axes>"
      ]
     },
     "metadata": {
      "needs_background": "light"
     },
     "output_type": "display_data"
    }
   ],
   "source": [
    "plt.plot(x,y)\n",
    "plt.show()"
   ]
  },
  {
   "cell_type": "markdown",
   "metadata": {},
   "source": [
    "# Defining Functions\n",
    "Although there are many functions available in external libraries it is often useful to create your own functions.  We will start out with simple functions that could be written mathematically on just one line, but we will develop functions that could not be written mathematically. It is important to note that mathematical functions that you are familiar with are different than code functions that python uses.  They are similar, but not the same.  Math functions take inputs and give a single value. Like z=f(x,y). Code functions can take multiple inputs and can give multiple outputs. In addition they can also perform tasks, like plotting, saving to a file, making sound, etc.  Also the input and outputs don't have to be numbers, they can be strings, or any other data type.  Functions are defined with the def command.  Then comes the name and the inputs.\n",
    "\n",
    "```python\n",
    "def Name_function(input):\n",
    "```\n",
    "\n",
    "The body of the function tells the computer what it does.  The body comes after the : and must always be indented. I like to use the tab key on each line of the body.  The return command tells the function what to send to the output of the function."
   ]
  },
  {
   "cell_type": "code",
   "execution_count": 10,
   "metadata": {},
   "outputs": [],
   "source": [
    "def my_function(x,y):\n",
    "    print('This is the value of the first input parameter ',x)\n",
    "    print('this is the value of the second input parameter ',y)\n",
    "    print('The first rased to the second will be returned')\n",
    "    return x**y"
   ]
  },
  {
   "cell_type": "markdown",
   "metadata": {},
   "source": [
    "Now that this function named my_function is defined we can use it.  To call this function (use it) we simply state its name and give it some values like so:"
   ]
  },
  {
   "cell_type": "code",
   "execution_count": 11,
   "metadata": {},
   "outputs": [
    {
     "name": "stdout",
     "output_type": "stream",
     "text": [
      "This is the value of the first input parameter  4.3\n",
      "this is the value of the second input parameter  1.8\n",
      "The first rased to the second will be returned\n"
     ]
    },
    {
     "data": {
      "text/plain": [
       "13.811575444034254"
      ]
     },
     "execution_count": 11,
     "metadata": {},
     "output_type": "execute_result"
    }
   ],
   "source": [
    "my_function(4.3,1.8)"
   ]
  },
  {
   "cell_type": "markdown",
   "metadata": {},
   "source": [
    "Note that we can also input an array instead of just a number."
   ]
  },
  {
   "cell_type": "code",
   "execution_count": 12,
   "metadata": {},
   "outputs": [],
   "source": [
    "a=np.arange(0.0,5.0,0.1)"
   ]
  },
  {
   "cell_type": "code",
   "execution_count": 13,
   "metadata": {},
   "outputs": [
    {
     "name": "stdout",
     "output_type": "stream",
     "text": [
      "This is the value of the first input parameter  [0.  0.1 0.2 0.3 0.4 0.5 0.6 0.7 0.8 0.9 1.  1.1 1.2 1.3 1.4 1.5 1.6 1.7\n",
      " 1.8 1.9 2.  2.1 2.2 2.3 2.4 2.5 2.6 2.7 2.8 2.9 3.  3.1 3.2 3.3 3.4 3.5\n",
      " 3.6 3.7 3.8 3.9 4.  4.1 4.2 4.3 4.4 4.5 4.6 4.7 4.8 4.9]\n",
      "this is the value of the second input parameter  6.8\n",
      "The first rased to the second will be returned\n"
     ]
    },
    {
     "data": {
      "text/plain": [
       "array([0.00000000e+00, 1.58489319e-07, 1.76605397e-05, 2.78243183e-04,\n",
       "       1.96792227e-03, 8.97420590e-03, 3.10047692e-02, 8.84436530e-02,\n",
       "       2.19286508e-01, 4.88482561e-01, 1.00000000e+00, 1.91192239e+00,\n",
       "       3.45487607e+00, 5.95408178e+00, 9.85531801e+00, 1.57550781e+01,\n",
       "       2.44351991e+01, 3.69022346e+01, 5.44318424e+01, 7.86184517e+01,\n",
       "       1.11430472e+02, 1.55271305e+02, 2.13046415e+02, 2.88236705e+02,\n",
       "       3.84978471e+02, 5.08150151e+02, 6.63466144e+02, 8.57577931e+02,\n",
       "       1.09818274e+03, 1.39413999e+03, 1.75559580e+03, 2.19411566e+03,\n",
       "       2.72282577e+03, 3.35656291e+03, 4.11203342e+03, 5.00798134e+03,\n",
       "       6.06536590e+03, 7.30754879e+03, 8.76049119e+03, 1.04529609e+04,\n",
       "       1.24167501e+04, 1.46869030e+04, 1.73019549e+04, 2.03041820e+04,\n",
       "       2.37398625e+04, 2.76595489e+04, 3.21183521e+04, 3.71762375e+04,\n",
       "       4.28983328e+04, 4.93552486e+04])"
      ]
     },
     "execution_count": 13,
     "metadata": {},
     "output_type": "execute_result"
    }
   ],
   "source": [
    "my_function(a,6.8)"
   ]
  },
  {
   "cell_type": "code",
   "execution_count": 14,
   "metadata": {},
   "outputs": [
    {
     "name": "stdout",
     "output_type": "stream",
     "text": [
      "This is the value of the first input parameter  [0.  0.1 0.2 0.3 0.4 0.5 0.6 0.7 0.8 0.9 1.  1.1 1.2 1.3 1.4 1.5 1.6 1.7\n",
      " 1.8 1.9 2.  2.1 2.2 2.3 2.4 2.5 2.6 2.7 2.8 2.9 3.  3.1 3.2 3.3 3.4 3.5\n",
      " 3.6 3.7 3.8 3.9 4.  4.1 4.2 4.3 4.4 4.5 4.6 4.7 4.8 4.9]\n",
      "this is the value of the second input parameter  4\n",
      "The first rased to the second will be returned\n"
     ]
    },
    {
     "data": {
      "image/png": "[encoded data removed]",
      "text/plain": [
       "<Figure size 432x288 with 1 Axes>"
      ]
     },
     "metadata": {
      "needs_background": "light"
     },
     "output_type": "display_data"
    }
   ],
   "source": [
    "plt.plot(a, my_function(a,4))\n",
    "plt.xlabel('x')\n",
    "plt.title('This is the title')\n",
    "plt.show()"
   ]
  },
  {
   "cell_type": "markdown",
   "metadata": {},
   "source": [
    "## <b><span style=\"color:red;\">Your Assignment:</span></b>\n",
    "- Create your own function that returns the position of a 1d projectile.  Inputs should be $y_0$, $v_0$, and $t$\n",
    "- Create an array of times from zero to a final time\n",
    "- Use your function to create a plot of the position of a projectile at all the times in your time array\n",
    "- Your plot should have appropriate labels and title"
   ]
  },
  {
   "cell_type": "markdown",
   "metadata": {},
   "source": [
    "# The While Loop\n",
    "It is common in programing to need to do the same thing over and over again.  Rather than having to write the same code multiple times you can put that code into a loop.  There are a number of different kind of loops, we will focus on the while loop.  The while loop continues to repeat the code in it until some condition is no longer true.  in other words it does stuff while its condition is true. Below is an example of a while loop that counts from 1 to 10."
   ]
  },
  {
   "cell_type": "code",
   "execution_count": 15,
   "metadata": {},
   "outputs": [
    {
     "name": "stdout",
     "output_type": "stream",
     "text": [
      "1\n",
      "2\n",
      "3\n",
      "4\n",
      "5\n",
      "6\n",
      "7\n",
      "8\n",
      "9\n",
      "10\n"
     ]
    }
   ],
   "source": [
    "i=0\n",
    "while (i<10):\n",
    "    i=i+1\n",
    "    print(i)"
   ]
  },
  {
   "cell_type": "markdown",
   "metadata": {},
   "source": [
    "It is important to check to see that the while loops you make will not go on for ever.  Make sure that the condition of continuing will change as part of the body of the while loop.  Above I made the variable i increase by one each time it went through the loop.  If instead I made a mistake and had it degrease by 1 each time then the loop would continue on for ever.  If this happens use drop down menu item called 'Kernel' and select 'interrupt'."
   ]
  },
  {
   "cell_type": "markdown",
   "metadata": {},
   "source": [
    "## <b><span style=\"color:red;\">Your Assignment:</span></b>\n",
    "- Create a while loop that uses your function to find the trajectory of 5 different initial velocities.\n",
    "- include in the loop a plot statement so you can see all the trajectories on the same plot."
   ]
  },
  {
   "cell_type": "markdown",
   "metadata": {},
   "source": [
    "# Different Math (differential math)\n",
    "The kinimatic equations you've seen in PH121 such as $y=y_0+v_0t+\\frac{1}{2}at^2$ assumes that the acceleration is constant.  What if it isn't? To handle cases with non constant acceleration we need to go back to the definition of acceleration.\n",
    "\n",
    "$$a=\\frac{d v}{d t}$$\n",
    "\n",
    "This differential equation can be approximated by \n",
    "\n",
    "$$a=\\frac{\\Delta v}{\\Delta t}$$\n",
    "\n",
    "The delta ($\\Delta$) is just a difference between two values.  In this case a new value and an older one. So\n",
    "\n",
    "$$\\Delta v = v_{new}-v_{old}$$ \n",
    "And the same thing can be done with the deffinition of velocity to give\n",
    "$$\\Delta x = x_{new}-x_{old}$$\n",
    "\n",
    "By making the difference between the old and the new very small the approximate equation becomes very close to the exact one.  We can then use this approximate one to solve for the new value of v if we know the old one and the time step.  Like so:\n",
    "$$ a*(\\Delta t)=(v_{new}-v_{old} ) $$\n",
    "\n",
    "\\begin{equation} v_{new}= a (\\Delta t)+v_{old} \\end{equation}\n",
    "\n",
    "With this new value of v we can then use the same equation again to find the next value.  This process can be repeated to find all values of v at any time. Likewise the same thing can be done with position to get\n",
    "\n",
    "\\begin{equation} x_{new}= v_{old}(\\Delta t)+x_{old} \\end{equation}\n",
    "\n",
    "These two equation, along with something that defines the acceleration, form the foundation of a numerical method that alows us to find all the values of velocity and position if you know the starting values and the acceleration. The starting values are simply fed into these equations to find the next values. These new values then become the old values to be fed into the equations again. This process is repeted untill all the velocity and position values are found. So long as our time step $\\Delta t$ is small enough then this should give us a very good aproximation of reality. "
   ]
  },
  {
   "cell_type": "markdown",
   "metadata": {},
   "source": [
    "You can just throw out the old values once you have the new ones, but where is the fun it that. It would be nice if we could keep track of all the values so we could plot things when its done, or even along the way. This can be done with the numpy append function. It takes an array of numbers and tacks on another number at the end. Like so:"
   ]
  },
  {
   "cell_type": "code",
   "execution_count": 16,
   "metadata": {},
   "outputs": [
    {
     "name": "stdout",
     "output_type": "stream",
     "text": [
      "[-4.  -3.5 -3.  -2.5 -2.  -1.5 -1.  -0.5  0.   0.5  1.   1.5  2.   2.5\n",
      "  3.   3.5  4. ]\n",
      "[-4.  -3.5 -3.  -2.5 -2.  -1.5 -1.  -0.5  0.   0.5  1.   1.5  2.   2.5\n",
      "  3.   3.5  4.   7. ]\n"
     ]
    }
   ],
   "source": [
    "print(x) # the old list of x values\n",
    "x=np.append(x,7) # makes the list longer by including 7 at the end\n",
    "print(x) # take a look at it again and notice the difference."
   ]
  },
  {
   "cell_type": "markdown",
   "metadata": {},
   "source": [
    "In this way an array of velocities, positions and times can be built up then plotted. You may want to review how we choose just one value (indexing) from an array. We talked about this a few weeks ago. If you want to learn more about what you can do with arrays check out this [link](http://cs231n.github.io/python-numpy-tutorial/#numpy-arrays). This link also talks about indexing if you would like to review there. How would you index $v_{old}$?"
   ]
  },
  {
   "cell_type": "markdown",
   "metadata": {},
   "source": [
    "## <b><span style=\"color:red;\">Your Assignment:</span></b>\n",
    "- Create a while loop that uses the above equation to find successive values of v at each value of t. As each new value of v and t is found include it into an array. Start by assuming constant acceleration. We'll change this next week, but you can play with changing it now if you like.\n",
    "- Then do the same thing with position. So that your while loop has both velocity and position arrays.\n",
    "- Make plots of position vs. time and velocity vs. time. How does this compare to what you did for the first assignment in todays lab?"
   ]
  },
  {
   "cell_type": "code",
   "execution_count": null,
   "metadata": {},
   "outputs": [],
   "source": []
  }
 ],
 "metadata": {
  "anaconda-cloud": {},
  "hide_input": false,
  "kernelspec": {
   "display_name": "Python 3",
   "language": "python",
   "name": "python3"
  },
  "language_info": {
   "codemirror_mode": {
    "name": "ipython",
    "version": 3
   },
   "file_extension": ".py",
   "mimetype": "text/x-python",
   "name": "python",
   "nbconvert_exporter": "python",
   "pygments_lexer": "ipython3",
   "version": "3.7.3"
  },
  "nav_menu": {},
  "toc": {
   "navigate_menu": true,
   "number_sections": true,
   "sideBar": true,
   "threshold": 6,
   "toc_cell": true,
   "toc_section_display": "block",
   "toc_window_display": true
  }
 },
 "nbformat": 4,
 "nbformat_minor": 1
}
