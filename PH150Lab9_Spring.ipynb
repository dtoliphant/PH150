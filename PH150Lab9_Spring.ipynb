{
 "cells": [
  {
   "cell_type": "markdown",
   "metadata": {},
   "source": [
    "# Week 9 - The spring force / Student design lab prep\n",
    "Along with finishing up your groups rocket paper this week you will model a mass on a spring. This is a relatively simple system, but can represent many different systems. So it is also very useful. Any system that has a stable equilibrium can, at least to first order, be modeled as a spring. This includes chemical bonds, pendulums, orbits, and even many social and biological systems.\n",
    "\n",
    "So far in this class we have looked at forces that are constant (or at least treated that way) like $F=mg$. We have also looked at forces that change with time like the rocket engine and forces that depend on velocity like drag. The spring force depends on displacement as measured from the equilibrium point.\n",
    "\\begin{equation}\n",
    "F=-kx\n",
    "\\end{equation}\n",
    "\n",
    "The $k$ is this equation is called the spring constant. It represents how stiff the spring is. But this constant could be anything depending on the system being studied. The key to this equation is that the force depends on the negative displacement multiplied by some constant. "
   ]
  },
  {
   "cell_type": "markdown",
   "metadata": {},
   "source": [
    "## <b><span style=\"color:red;\">Your Assignment:</span></b>  \n",
    "- Create a computer model that represents the motion of a mass on a spring, start with only the spring force and only in 1D.\n",
    "- Make a plot of the displacement vs time, make sure you start the system with $x$ and/or $v$ other than zero.\n",
    "- Change $m$ and $k$ and note how they affect the period of oscillation of this model.\n",
    "- Change $dt$ and note how this affects the solution."
   ]
  },
  {
   "cell_type": "markdown",
   "metadata": {},
   "source": [
    "## <b><span style=\"color:red;\">Optional Assignment:</span></b>  \n",
    "- Make a 2D model with each direction affected by a spring force.\n",
    "- Start this system with an initial velocity and position other than zero. \n",
    "- plot $x$ vs $y$ for this system.\n",
    "- What type of system could this be a model for? (orbits, if given the right initial conditions)"
   ]
  },
  {
   "cell_type": "markdown",
   "metadata": {},
   "source": [
    "## Limits to method\n",
    "Please note that the method we have been using (Euler's method) to model how forces change the velocity and position does not work perfectly. It is especially poor at modeling a system like a mass on a spring. It will break down with this system. I want you to see this. So push your code until this happens. This can be done by having too large of a value of $dt$ or to let it run for a long time. There are some relatively simple methods that will work for this system. If you go on in physics or another computational class you will likely study them. But even Euler's method works ok for this system so long as dt is small and you don't push it to far."
   ]
  },
  {
   "cell_type": "markdown",
   "metadata": {},
   "source": [
    "# Student Design Lab\n",
    "The culmination of this semester is a lab that you design and carry out with others in your group. To ensure that your design is both reasonable for you to complete and challenging enough you need to write, with your group, a proposal for your lab. Think of this proposal as a persuasive essay. It needs to convince me of the following:\n",
    "- that your project is interesting enough to justify your time\n",
    "- that you have the resources necessary to complete the project\n",
    "    - equipment\n",
    "    - skills\n",
    "    - time (2 weeks of lab time)\n",
    "- that it will require the skills we have learned this semester\n",
    "\n",
    "You are welcome to use any of the equipment that the physics department owns. We are even willing to purchase additional equipment if you can justify it. Make Along with the above list of things to include be sure to explain your project clearly. What system will you model? How will you model it? What forces are acting? What data will you take to compare? etc. etc."
   ]
  },
  {
   "cell_type": "markdown",
   "metadata": {},
   "source": [
    "## <b><span style=\"color:red;\">Your Assignment:</span></b>  \n",
    "- With your group write a proposal for your student designed lab. \n",
    "- This should be a separate document from the other assignment for today. \n",
    "- A draft of this must be turned in a week before it is due. This allows me time to steer you in a different direction if needed."
   ]
  },
  {
   "cell_type": "code",
   "execution_count": null,
   "metadata": {},
   "outputs": [],
   "source": []
  },
  {
   "cell_type": "code",
   "execution_count": null,
   "metadata": {},
   "outputs": [],
   "source": []
  },
  {
   "cell_type": "code",
   "execution_count": null,
   "metadata": {},
   "outputs": [],
   "source": []
  },
  {
   "cell_type": "code",
   "execution_count": null,
   "metadata": {},
   "outputs": [],
   "source": []
  },
  {
   "cell_type": "code",
   "execution_count": null,
   "metadata": {},
   "outputs": [],
   "source": []
  },
  {
   "cell_type": "code",
   "execution_count": null,
   "metadata": {},
   "outputs": [],
   "source": []
  },
  {
   "cell_type": "code",
   "execution_count": null,
   "metadata": {},
   "outputs": [],
   "source": []
  },
  {
   "cell_type": "code",
   "execution_count": null,
   "metadata": {},
   "outputs": [],
   "source": []
  }
 ],
 "metadata": {
  "kernelspec": {
   "display_name": "Python 3",
   "language": "python",
   "name": "python3"
  },
  "language_info": {
   "codemirror_mode": {
    "name": "ipython",
    "version": 3
   },
   "file_extension": ".py",
   "mimetype": "text/x-python",
   "name": "python",
   "nbconvert_exporter": "python",
   "pygments_lexer": "ipython3",
   "version": "3.7.3"
  }
 },
 "nbformat": 4,
 "nbformat_minor": 2
}
